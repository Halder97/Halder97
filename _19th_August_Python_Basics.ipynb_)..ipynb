{
 "cells": [
  {
   "cell_type": "code",
   "execution_count": 1,
   "id": "36007d55-7fe2-4e17-ac8f-7315cc221f6f",
   "metadata": {},
   "outputs": [],
   "source": [
    "x=5"
   ]
  },
  {
   "cell_type": "code",
   "execution_count": 2,
   "id": "84ca276a-51b6-4df8-9397-9fb36ac63935",
   "metadata": {},
   "outputs": [],
   "source": [
    "y=10"
   ]
  },
  {
   "cell_type": "code",
   "execution_count": 3,
   "id": "06e73436-0881-48cb-84ce-8a4b5c5d9f97",
   "metadata": {},
   "outputs": [],
   "source": [
    "x=x+y"
   ]
  },
  {
   "cell_type": "code",
   "execution_count": 4,
   "id": "b33b8bac-44b7-4366-99bf-e25371e97421",
   "metadata": {},
   "outputs": [],
   "source": [
    "y=x-y"
   ]
  },
  {
   "cell_type": "code",
   "execution_count": 5,
   "id": "59421a02-9cd7-4dd1-a916-6fc4ae31de73",
   "metadata": {},
   "outputs": [],
   "source": [
    "x=x-y"
   ]
  },
  {
   "cell_type": "code",
   "execution_count": 6,
   "id": "0395edc3-057b-4765-a18e-bbfa99890004",
   "metadata": {},
   "outputs": [
    {
     "name": "stdout",
     "output_type": "stream",
     "text": [
      "After swapping\n"
     ]
    }
   ],
   "source": [
    "print(\"After swapping\")"
   ]
  },
  {
   "cell_type": "code",
   "execution_count": 7,
   "id": "bbc34753-f565-4082-8784-f22838aabf20",
   "metadata": {},
   "outputs": [
    {
     "name": "stdout",
     "output_type": "stream",
     "text": [
      "x= 10\n"
     ]
    }
   ],
   "source": [
    "print(\"x=\",x)"
   ]
  },
  {
   "cell_type": "code",
   "execution_count": 10,
   "id": "4c8ff716-8ef6-44ce-b94b-04f224bf1e09",
   "metadata": {},
   "outputs": [
    {
     "name": "stdout",
     "output_type": "stream",
     "text": [
      "y= 5\n"
     ]
    }
   ],
   "source": [
    "print(\"y=\",y)"
   ]
  },
  {
   "cell_type": "code",
   "execution_count": null,
   "id": "9c221861-2d42-4553-9265-d9a299187010",
   "metadata": {},
   "outputs": [],
   "source": []
  },
  {
   "cell_type": "code",
   "execution_count": 1,
   "id": "50c52310-6c05-49a4-a3ee-d1afb8e74791",
   "metadata": {},
   "outputs": [
    {
     "name": "stdin",
     "output_type": "stream",
     "text": [
      "Enter the length of the rectangle:  12\n",
      "Enter the width of the rectangle:  40\n"
     ]
    },
    {
     "name": "stdout",
     "output_type": "stream",
     "text": [
      "The area of the rectangle with length 12.0 and width 40.0 is: 480.0\n"
     ]
    }
   ],
   "source": [
    "# Get user input for length and width\n",
    "length = float(input(\"Enter the length of the rectangle: \"))\n",
    "width = float(input(\"Enter the width of the rectangle: \"))\n",
    "\n",
    "# Calculate the area\n",
    "area = length * width\n",
    "\n",
    "# Display the result\n",
    "print(\"The area of the rectangle with length\", length, \"and width\", width, \"is:\", area)\n"
   ]
  },
  {
   "cell_type": "code",
   "execution_count": null,
   "id": "3413ad36-7229-40ff-91b9-15d91eef89e6",
   "metadata": {},
   "outputs": [],
   "source": []
  },
  {
   "cell_type": "code",
   "execution_count": 3,
   "id": "46221d39-f324-46f5-86f0-8cd129608f0e",
   "metadata": {},
   "outputs": [
    {
     "name": "stdin",
     "output_type": "stream",
     "text": [
      "Enter the temperature in Celsius:  10\n"
     ]
    },
    {
     "name": "stdout",
     "output_type": "stream",
     "text": [
      "10.0 degrees Celsius is equal to 50.0 degrees Fahrenheit\n"
     ]
    }
   ],
   "source": [
    "# Get user input for temperature in Celsius\n",
    "celsius = float(input(\"Enter the temperature in Celsius: \"))\n",
    "\n",
    "# Convert Celsius to Fahrenheit\n",
    "fahrenheit = (celsius * 9/5) + 32\n",
    "\n",
    "# Display the result\n",
    "print(f\"{celsius} degrees Celsius is equal to {fahrenheit} degrees Fahrenheit\")\n"
   ]
  },
  {
   "cell_type": "code",
   "execution_count": 5,
   "id": "572ea83b-14e9-4f0c-8942-915d5a0dee62",
   "metadata": {},
   "outputs": [],
   "source": [
    "# Get user input for a string"
   ]
  },
  {
   "cell_type": "code",
   "execution_count": 1,
   "id": "1248767d-47af-4466-a1ae-1c2e89b3e911",
   "metadata": {},
   "outputs": [
    {
     "name": "stdin",
     "output_type": "stream",
     "text": [
      "Enter a string:  \"kaushik\"\n"
     ]
    }
   ],
   "source": [
    "input_string = input(\"Enter a string: \")"
   ]
  },
  {
   "cell_type": "code",
   "execution_count": 4,
   "id": "0c7126d5-89c4-4d3c-a868-db5965132725",
   "metadata": {},
   "outputs": [],
   "source": [
    "# Calculate and print the length of the string"
   ]
  },
  {
   "cell_type": "code",
   "execution_count": 5,
   "id": "5b371cb3-0830-4497-889f-86f1e2812f5b",
   "metadata": {},
   "outputs": [],
   "source": [
    "string_length = len(input_string)"
   ]
  },
  {
   "cell_type": "code",
   "execution_count": 6,
   "id": "c65e0dc9-84b7-46dc-ab25-80838f1906f0",
   "metadata": {},
   "outputs": [
    {
     "name": "stdout",
     "output_type": "stream",
     "text": [
      "The length of the string is: 9\n"
     ]
    }
   ],
   "source": [
    "print(\"The length of the string is:\", string_length)"
   ]
  },
  {
   "cell_type": "code",
   "execution_count": null,
   "id": "d475ac30-95e5-4685-b806-180cf2e62e22",
   "metadata": {},
   "outputs": [],
   "source": []
  },
  {
   "cell_type": "code",
   "execution_count": 2,
   "id": "ecd34fe9-2171-4fb6-8e34-05ebf4602edd",
   "metadata": {},
   "outputs": [
    {
     "name": "stdin",
     "output_type": "stream",
     "text": [
      "Enter a sentence:  \"My name ki kaushik halder\"\n"
     ]
    },
    {
     "name": "stdout",
     "output_type": "stream",
     "text": [
      "The number of vowels in the sentence is: 8\n"
     ]
    }
   ],
   "source": [
    "# Get user input for a sentence\n",
    "sentence = input(\"Enter a sentence: \")\n",
    "\n",
    "# Convert the sentence to lowercase to make it case-insensitive\n",
    "sentence = sentence.lower()\n",
    "\n",
    "# Initialize a variable to count vowels\n",
    "vowel_count = 0\n",
    "\n",
    "# Iterate through each character in the sentence\n",
    "for char in sentence:\n",
    "    # Check if the character is a vowel (a, e, i, o, u)\n",
    "    if char in \"aeiou\":\n",
    "        vowel_count += 1\n",
    "\n",
    "# Display the vowel count\n",
    "print(\"The number of vowels in the sentence is:\", vowel_count)\n"
   ]
  },
  {
   "cell_type": "code",
   "execution_count": null,
   "id": "ccbc8813-21ee-4ec2-8ad5-c876919574a2",
   "metadata": {},
   "outputs": [],
   "source": []
  },
  {
   "cell_type": "code",
   "execution_count": 2,
   "id": "562338dd-73aa-4863-a70e-4c6be73b3480",
   "metadata": {},
   "outputs": [
    {
     "name": "stdin",
     "output_type": "stream",
     "text": [
      "Enter a string:  \"West Bengal\"\n"
     ]
    },
    {
     "name": "stdout",
     "output_type": "stream",
     "text": [
      "Reversed string: \"lagneB tseW\"\n"
     ]
    }
   ],
   "source": [
    "# Get user input for a string\n",
    "input_string = input(\"Enter a string: \")\n",
    "\n",
    "# Use string slicing to reverse the string\n",
    "reversed_string = input_string[::-1]\n",
    "\n",
    "# Display the reversed string\n",
    "print(\"Reversed string:\", reversed_string)\n"
   ]
  },
  {
   "cell_type": "code",
   "execution_count": null,
   "id": "fd678306-9781-41ec-bbf4-c0313af18e2b",
   "metadata": {},
   "outputs": [],
   "source": []
  },
  {
   "cell_type": "code",
   "execution_count": 5,
   "id": "3f5fe470-c366-4dc5-867a-462f08aa6d60",
   "metadata": {},
   "outputs": [
    {
     "name": "stdin",
     "output_type": "stream",
     "text": [
      "Enter a string:  \"West Bengal Kolkata\"\n"
     ]
    },
    {
     "name": "stdout",
     "output_type": "stream",
     "text": [
      "The entered string is not a palindrome.\n"
     ]
    }
   ],
   "source": [
    "# Get user input for a string\n",
    "input_string = input(\"Enter a string: \")\n",
    "\n",
    "# Remove spaces and convert the string to lowercase for case-insensitive comparison\n",
    "cleaned_input = input_string.replace(\" \", \"\").lower()\n",
    "\n",
    "# Reverse the string using slicing\n",
    "reversed_string = cleaned_input[::-1]\n",
    "\n",
    "# Check if the original and reversed strings are the same\n",
    "if cleaned_input == reversed_string:\n",
    "    print(\"The entered string is a palindrome.\")\n",
    "else:\n",
    "    print(\"The entered string is not a palindrome.\")\n"
   ]
  },
  {
   "cell_type": "code",
   "execution_count": 6,
   "id": "49bdc527-fbe3-4a2d-9702-3e5177c7fab6",
   "metadata": {},
   "outputs": [
    {
     "name": "stdin",
     "output_type": "stream",
     "text": [
      "Enter a string:  \"Kolkata Baruipur\"\n"
     ]
    },
    {
     "name": "stdout",
     "output_type": "stream",
     "text": [
      "Modified string without spaces: \"KolkataBaruipur\"\n"
     ]
    }
   ],
   "source": [
    "# Get user input for a string\n",
    "input_string = input(\"Enter a string: \")\n",
    "\n",
    "# Remove spaces from the input string\n",
    "modified_string = input_string.replace(\" \", \"\")\n",
    "\n",
    "# Print the modified string without spaces\n",
    "print(\"Modified string without spaces:\", modified_string)\n"
   ]
  },
  {
   "cell_type": "code",
   "execution_count": null,
   "id": "fcfd34ef-82ae-42c4-8257-03bc7b329ea0",
   "metadata": {},
   "outputs": [],
   "source": []
  }
 ],
 "metadata": {
  "kernelspec": {
   "display_name": "Python 3 (ipykernel)",
   "language": "python",
   "name": "python3"
  },
  "language_info": {
   "codemirror_mode": {
    "name": "ipython",
    "version": 3
   },
   "file_extension": ".py",
   "mimetype": "text/x-python",
   "name": "python",
   "nbconvert_exporter": "python",
   "pygments_lexer": "ipython3",
   "version": "3.10.8"
  }
 },
 "nbformat": 4,
 "nbformat_minor": 5
}
