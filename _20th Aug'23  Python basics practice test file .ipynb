{
 "cells": [
  {
   "cell_type": "code",
   "execution_count": 1,
   "id": "6631b08a-3f8e-48f8-9fb2-da2d634db90d",
   "metadata": {},
   "outputs": [
    {
     "name": "stdin",
     "output_type": "stream",
     "text": [
      "Enter a string:  data science\n"
     ]
    },
    {
     "name": "stdout",
     "output_type": "stream",
     "text": [
      "Reversed string: ecneics atad\n"
     ]
    }
   ],
   "source": [
    "# Function to reverse a string\n",
    "def reverse_string(input_string):\n",
    "    # Use string slicing with a step of -1 to reverse the string\n",
    "    reversed_string = input_string[::-1]\n",
    "    return reversed_string\n",
    "\n",
    "# Input string\n",
    "input_string = input(\"Enter a string: \")\n",
    "\n",
    "# Call the function to reverse the string\n",
    "reversed_result = reverse_string(input_string)\n",
    "\n",
    "# Print the reversed string\n",
    "print(\"Reversed string:\", reversed_result)\n"
   ]
  },
  {
   "cell_type": "code",
   "execution_count": 2,
   "id": "fea907ff-efde-430c-a886-7f82ab580b94",
   "metadata": {},
   "outputs": [
    {
     "name": "stdin",
     "output_type": "stream",
     "text": [
      "Enter a string:  data science\n"
     ]
    },
    {
     "name": "stdout",
     "output_type": "stream",
     "text": [
      "It's not a palindrome.\n"
     ]
    }
   ],
   "source": [
    "# Function to check if a string is a palindrome\n",
    "def is_palindrome(input_string):\n",
    "    # Remove spaces and convert the string to lowercase\n",
    "    cleaned_string = input_string.replace(\" \", \"\").lower()\n",
    "    \n",
    "    # Compare the original string with its reverse\n",
    "    return cleaned_string == cleaned_string[::-1]\n",
    "\n",
    "# Input string\n",
    "input_string = input(\"Enter a string: \")\n",
    "\n",
    "# Call the function to check if it's a palindrome\n",
    "if is_palindrome(input_string):\n",
    "    print(\"It's a palindrome!\")\n",
    "else:\n",
    "    print(\"It's not a palindrome.\")\n"
   ]
  },
  {
   "cell_type": "code",
   "execution_count": 3,
   "id": "7e9c8977-9ead-4afa-80dc-97d7fbc2c33d",
   "metadata": {},
   "outputs": [
    {
     "name": "stdin",
     "output_type": "stream",
     "text": [
      "Enter a string:  Data Science\n"
     ]
    },
    {
     "name": "stdout",
     "output_type": "stream",
     "text": [
      "Uppercase string: DATA SCIENCE\n"
     ]
    }
   ],
   "source": [
    "# Input string\n",
    "input_string = input(\"Enter a string: \")\n",
    "\n",
    "# Convert the string to uppercase using the upper() method\n",
    "uppercase_string = input_string.upper()\n",
    "\n",
    "# Print the uppercase string\n",
    "print(\"Uppercase string:\", uppercase_string)\n"
   ]
  },
  {
   "cell_type": "code",
   "execution_count": 4,
   "id": "f3b0a466-2d47-4d8f-a3a4-449c05a1befb",
   "metadata": {},
   "outputs": [
    {
     "name": "stdin",
     "output_type": "stream",
     "text": [
      "Enter a string:  Data Science\n"
     ]
    },
    {
     "name": "stdout",
     "output_type": "stream",
     "text": [
      "Lowercase string: data science\n"
     ]
    }
   ],
   "source": [
    "# Input string\n",
    "input_string = input(\"Enter a string: \")\n",
    "\n",
    "# Convert the string to lowercase using the lower() method\n",
    "lowercase_string = input_string.lower()\n",
    "\n",
    "# Print the lowercase string\n",
    "print(\"Lowercase string:\", lowercase_string)\n"
   ]
  },
  {
   "cell_type": "code",
   "execution_count": 5,
   "id": "4e853e98-04df-4f38-b80e-4dcdb7038d7a",
   "metadata": {},
   "outputs": [
    {
     "name": "stdin",
     "output_type": "stream",
     "text": [
      "Enter a string:  Data Science\n"
     ]
    },
    {
     "name": "stdout",
     "output_type": "stream",
     "text": [
      "Number of vowels: 5\n"
     ]
    }
   ],
   "source": [
    "# Function to count the number of vowels in a string\n",
    "def count_vowels(input_string):\n",
    "    # Define a set of vowels (both uppercase and lowercase)\n",
    "    vowels = set(\"AEIOUaeiou\")\n",
    "    \n",
    "    # Initialize a variable to store the count of vowels\n",
    "    vowel_count = 0\n",
    "    \n",
    "    # Iterate through the characters in the string\n",
    "    for char in input_string:\n",
    "        # Check if the character is in the set of vowels\n",
    "        if char in vowels:\n",
    "            vowel_count += 1\n",
    "    \n",
    "    return vowel_count\n",
    "\n",
    "# Input string\n",
    "input_string = input(\"Enter a string: \")\n",
    "\n",
    "# Call the function to count vowels\n",
    "vowel_count = count_vowels(input_string)\n",
    "\n",
    "# Print the count of vowels\n",
    "print(\"Number of vowels:\", vowel_count)\n"
   ]
  },
  {
   "cell_type": "code",
   "execution_count": 6,
   "id": "990da47d-82d9-4c41-9897-f714c3f39303",
   "metadata": {},
   "outputs": [
    {
     "name": "stdin",
     "output_type": "stream",
     "text": [
      "Enter a string:  Data Science\n"
     ]
    },
    {
     "name": "stdout",
     "output_type": "stream",
     "text": [
      "Number of consonants: 6\n"
     ]
    }
   ],
   "source": [
    "# Function to count the number of consonants in a string\n",
    "def count_consonants(input_string):\n",
    "    # Define a set of vowels (both uppercase and lowercase)\n",
    "    vowels = set(\"AEIOUaeiou\")\n",
    "    \n",
    "    # Initialize a variable to store the count of consonants\n",
    "    consonant_count = 0\n",
    "    \n",
    "    # Iterate through the characters in the string\n",
    "    for char in input_string:\n",
    "        # Check if the character is an alphabet letter and not in the set of vowels\n",
    "        if char.isalpha() and char not in vowels:\n",
    "            consonant_count += 1\n",
    "    \n",
    "    return consonant_count\n",
    "\n",
    "# Input string\n",
    "input_string = input(\"Enter a string: \")\n",
    "\n",
    "# Call the function to count consonants\n",
    "consonant_count = count_consonants(input_string)\n",
    "\n",
    "# Print the count of consonants\n",
    "print(\"Number of consonants:\", consonant_count)\n"
   ]
  },
  {
   "cell_type": "code",
   "execution_count": 7,
   "id": "6d741a13-6271-47ae-8733-39fe0414b929",
   "metadata": {},
   "outputs": [
    {
     "name": "stdin",
     "output_type": "stream",
     "text": [
      "Enter a string:  Data Science\n"
     ]
    },
    {
     "name": "stdout",
     "output_type": "stream",
     "text": [
      "String with whitespaces removed: DataScience\n"
     ]
    }
   ],
   "source": [
    "# Input string\n",
    "input_string = input(\"Enter a string: \")\n",
    "\n",
    "# Remove whitespaces using list comprehension\n",
    "no_whitespace_string = \"\".join([char for char in input_string if char != \" \"])\n",
    "\n",
    "# Print the string with whitespaces removed\n",
    "print(\"String with whitespaces removed:\", no_whitespace_string)\n"
   ]
  },
  {
   "cell_type": "code",
   "execution_count": 8,
   "id": "659672ef-05ea-4866-9f41-ec27077b4950",
   "metadata": {},
   "outputs": [
    {
     "name": "stdin",
     "output_type": "stream",
     "text": [
      "Enter a string:  Data Science\n"
     ]
    },
    {
     "name": "stdout",
     "output_type": "stream",
     "text": [
      "Length of the string: 12\n"
     ]
    }
   ],
   "source": [
    "# Input string\n",
    "input_string = input(\"Enter a string: \")\n",
    "\n",
    "# Initialize a variable to count the characters\n",
    "length = 0\n",
    "\n",
    "# Iterate through the characters in the string\n",
    "for char in input_string:\n",
    "    length += 1\n",
    "\n",
    "# Print the length of the string\n",
    "print(\"Length of the string:\", length)\n"
   ]
  },
  {
   "cell_type": "code",
   "execution_count": 9,
   "id": "d412f278-0f72-4009-b576-39195ed502f8",
   "metadata": {},
   "outputs": [
    {
     "name": "stdin",
     "output_type": "stream",
     "text": [
      "Enter a string:  Data Science\n",
      "Enter the word to check for:  e\n"
     ]
    },
    {
     "name": "stdout",
     "output_type": "stream",
     "text": [
      "The string contains the word 'e'.\n"
     ]
    }
   ],
   "source": [
    "# Input string\n",
    "input_string = input(\"Enter a string: \")\n",
    "\n",
    "# Specific word to check for\n",
    "specific_word = input(\"Enter the word to check for: \")\n",
    "\n",
    "# Check if the specific word is in the string\n",
    "if specific_word in input_string:\n",
    "    print(f\"The string contains the word '{specific_word}'.\")\n",
    "else:\n",
    "    print(f\"The string does not contain the word '{specific_word}'.\")\n",
    "\n"
   ]
  },
  {
   "cell_type": "code",
   "execution_count": 11,
   "id": "2c9dbcf4-8cad-4e15-9873-5da2b17f3238",
   "metadata": {},
   "outputs": [
    {
     "name": "stdin",
     "output_type": "stream",
     "text": [
      "Enter a string:  Data Science\n",
      "Enter the word to replace:  t\n",
      "Enter the new word:  n\n"
     ]
    },
    {
     "name": "stdout",
     "output_type": "stream",
     "text": [
      "Modified string: Dana Science\n"
     ]
    }
   ],
   "source": [
    "# Input string\n",
    "input_string = input(\"Enter a string: \")\n",
    "\n",
    "# Word to replace\n",
    "word_to_replace = input(\"Enter the word to replace: \")\n",
    "\n",
    "# New word\n",
    "new_word = input(\"Enter the new word: \")\n",
    "\n",
    "# Replace the word in the string\n",
    "result_string = input_string.replace(word_to_replace, new_word)\n",
    "\n",
    "# Print the modified string\n",
    "print(\"Modified string:\", result_string)\n"
   ]
  },
  {
   "cell_type": "code",
   "execution_count": 13,
   "id": "debd9d31-2bd1-4b62-b9f7-9d1935c96164",
   "metadata": {},
   "outputs": [
    {
     "name": "stdin",
     "output_type": "stream",
     "text": [
      "Enter a string:  Data Science\n",
      "Enter the word to count:  e\n"
     ]
    },
    {
     "name": "stdout",
     "output_type": "stream",
     "text": [
      "The word 'e' appears 2 times in the string.\n"
     ]
    }
   ],
   "source": [
    "# Input string\n",
    "input_string = input(\"Enter a string: \")\n",
    "\n",
    "# Word to count\n",
    "word_to_count = input(\"Enter the word to count: \")\n",
    "\n",
    "# Count the occurrences of the word in the string\n",
    "count = input_string.count(word_to_count)\n",
    "\n",
    "# Print the count\n",
    "print(f\"The word '{word_to_count}' appears {count} times in the string.\")\n"
   ]
  },
  {
   "cell_type": "code",
   "execution_count": 14,
   "id": "05481160-b480-4a51-8c24-cf92457beac6",
   "metadata": {},
   "outputs": [
    {
     "name": "stdin",
     "output_type": "stream",
     "text": [
      "Enter a string:  Data Science\n",
      "Enter the word to find:  e\n"
     ]
    },
    {
     "name": "stdout",
     "output_type": "stream",
     "text": [
      "The word 'e' was found at position 8.\n"
     ]
    }
   ],
   "source": [
    "# Input string\n",
    "input_string = input(\"Enter a string: \")\n",
    "\n",
    "# Word to find\n",
    "word_to_find = input(\"Enter the word to find: \")\n",
    "\n",
    "# Find the first occurrence of the word in the string\n",
    "position = input_string.find(word_to_find)\n",
    "\n",
    "# Check if the word was found (position is not -1)\n",
    "if position != -1:\n",
    "    print(f\"The word '{word_to_find}' was found at position {position}.\")\n",
    "else:\n",
    "    print(f\"The word '{word_to_find}' was not found in the string.\")\n",
    "\n"
   ]
  },
  {
   "cell_type": "code",
   "execution_count": 15,
   "id": "9375e3d5-1a79-4654-a6de-cc81e1975084",
   "metadata": {},
   "outputs": [
    {
     "name": "stdin",
     "output_type": "stream",
     "text": [
      "Enter a string:  Data Science\n",
      "Enter the word to find:  i\n"
     ]
    },
    {
     "name": "stdout",
     "output_type": "stream",
     "text": [
      "The last occurrence of the word 'i' was found at position 7.\n"
     ]
    }
   ],
   "source": [
    "# Input string\n",
    "input_string = input(\"Enter a string: \")\n",
    "\n",
    "# Word to find\n",
    "word_to_find = input(\"Enter the word to find: \")\n",
    "\n",
    "# Find the last occurrence of the word in the string using rfind()\n",
    "position = input_string.rfind(word_to_find)\n",
    "\n",
    "# Check if the word was found (position is not -1)\n",
    "if position != -1:\n",
    "    print(f\"The last occurrence of the word '{word_to_find}' was found at position {position}.\")\n",
    "else:\n",
    "    print(f\"The word '{word_to_find}' was not found in the string.\")\n",
    "\n",
    "    "
   ]
  },
  {
   "cell_type": "code",
   "execution_count": 16,
   "id": "2e09832c-7e37-47cf-b7cb-4126ff2e44cf",
   "metadata": {},
   "outputs": [
    {
     "name": "stdin",
     "output_type": "stream",
     "text": [
      "Enter a string:  Data Science\n"
     ]
    },
    {
     "name": "stdout",
     "output_type": "stream",
     "text": [
      "List of words: ['Data', 'Science']\n"
     ]
    }
   ],
   "source": [
    "# Input string\n",
    "input_string = input(\"Enter a string: \")\n",
    "\n",
    "# Split the string into a list of words\n",
    "word_list = input_string.split()\n",
    "\n",
    "# Print the list of words\n",
    "print(\"List of words:\", word_list)\n"
   ]
  },
  {
   "cell_type": "code",
   "execution_count": 18,
   "id": "9d8306cc-f5ff-4993-8a0e-4ac7c2adedcc",
   "metadata": {},
   "outputs": [
    {
     "name": "stdout",
     "output_type": "stream",
     "text": [
      "Joined string: This is a Data Science.\n"
     ]
    }
   ],
   "source": [
    "# List of words\n",
    "word_list = ['This', 'is', 'a', 'Data', 'Science.']\n",
    "\n",
    "# Specify the separator (e.g., a space) between the words\n",
    "separator = ' '\n",
    "\n",
    "# Join the list of words into a single string\n",
    "result_string = separator.join(word_list)\n",
    "\n",
    "# Print the result\n",
    "print(\"Joined string:\", result_string)\n"
   ]
  },
  {
   "cell_type": "code",
   "execution_count": 19,
   "id": "30d292dc-4b1a-498f-bdbb-1fe114410b68",
   "metadata": {},
   "outputs": [
    {
     "name": "stdin",
     "output_type": "stream",
     "text": [
      "Enter a string with spaces between words:  Data Science\n"
     ]
    },
    {
     "name": "stdout",
     "output_type": "stream",
     "text": [
      "Converted string: Data_Science\n"
     ]
    }
   ],
   "source": [
    "# Input string\n",
    "input_string = input(\"Enter a string with spaces between words: \")\n",
    "\n",
    "# Replace spaces with underscores\n",
    "result_string = input_string.replace(\" \", \"_\")\n",
    "\n",
    "# Print the converted string\n",
    "print(\"Converted string:\", result_string)\n"
   ]
  },
  {
   "cell_type": "code",
   "execution_count": 20,
   "id": "8c5c314e-1f82-4bad-a882-f523b53dcc42",
   "metadata": {},
   "outputs": [
    {
     "name": "stdin",
     "output_type": "stream",
     "text": [
      "Enter a string:  Data Science\n",
      "Enter the specific word or phrase to check for:  n\n"
     ]
    },
    {
     "name": "stdout",
     "output_type": "stream",
     "text": [
      "The string does not start with 'n'.\n"
     ]
    }
   ],
   "source": [
    "# Input string\n",
    "input_string = input(\"Enter a string: \")\n",
    "\n",
    "# Specific word or phrase to check for\n",
    "specific_word = input(\"Enter the specific word or phrase to check for: \")\n",
    "\n",
    "# Check if the string starts with the specific word or phrase\n",
    "if input_string.startswith(specific_word):\n",
    "    print(f\"The string starts with '{specific_word}'.\")\n",
    "else:\n",
    "    print(f\"The string does not start with '{specific_word}'.\")\n"
   ]
  },
  {
   "cell_type": "code",
   "execution_count": 23,
   "id": "e5a2b413-3242-4a93-95c3-96d860cddb59",
   "metadata": {},
   "outputs": [
    {
     "name": "stdin",
     "output_type": "stream",
     "text": [
      "Enter a string:  Data Science\n",
      "Enter the specific word or phrase to check for:  e\n"
     ]
    },
    {
     "name": "stdout",
     "output_type": "stream",
     "text": [
      "The string ends with 'e'.\n"
     ]
    }
   ],
   "source": [
    "# Input string\n",
    "input_string = input(\"Enter a string: \")\n",
    "\n",
    "# Specific word or phrase to check for\n",
    "specific_word = input(\"Enter the specific word or phrase to check for: \")\n",
    "\n",
    "# Check if the string ends with the specific word or phrase\n",
    "if input_string.endswith(specific_word):\n",
    "    print(f\"The string ends with '{specific_word}'.\")\n",
    "else:\n",
    "    print(f\"The string does not end with '{specific_word}'.\")\n"
   ]
  },
  {
   "cell_type": "code",
   "execution_count": 1,
   "id": "684eb86f-9843-4340-9725-a1f2e749e0c0",
   "metadata": {},
   "outputs": [
    {
     "name": "stdout",
     "output_type": "stream",
     "text": [
      "Hello World\n"
     ]
    }
   ],
   "source": [
    "input_string = \"hello world\"\n",
    "title_case_string = input_string.title()\n",
    "print(title_case_string)\n"
   ]
  },
  {
   "cell_type": "code",
   "execution_count": 2,
   "id": "f0864399-9d56-4009-a8d8-d1375a56f576",
   "metadata": {},
   "outputs": [
    {
     "name": "stdout",
     "output_type": "stream",
     "text": [
      "The longest word in the string is: hippopotamus\n"
     ]
    }
   ],
   "source": [
    "def find_longest_word(input_string):\n",
    "    # Split the input string into words using whitespace as the delimiter\n",
    "    words = input_string.split()\n",
    "\n",
    "    # Initialize variables to keep track of the longest word and its length\n",
    "    longest_word = \"\"\n",
    "    max_length = 0\n",
    "\n",
    "    # Iterate through the words to find the longest one\n",
    "    for word in words:\n",
    "        # Remove any punctuation marks from the word (optional)\n",
    "        word = ''.join(c for c in word if c.isalnum())\n",
    "        \n",
    "        # Check if the current word is longer than the longest one found so far\n",
    "        if len(word) > max_length:\n",
    "            max_length = len(word)\n",
    "            longest_word = word\n",
    "\n",
    "    return longest_word\n",
    "\n",
    "input_string = \"This is a sample sentence with some long words like 'elephant' and 'hippopotamus'.\"\n",
    "result = find_longest_word(input_string)\n",
    "print(\"The longest word in the string is:\", result)\n"
   ]
  },
  {
   "cell_type": "code",
   "execution_count": 3,
   "id": "b43d46fe-0598-464f-b8ea-77e780639ffe",
   "metadata": {},
   "outputs": [
    {
     "name": "stdout",
     "output_type": "stream",
     "text": [
      "The longest word in the string is: hippopotamus\n"
     ]
    }
   ],
   "source": [
    "def find_longest_word(input_string):\n",
    "    # Split the input string into words using whitespace as the delimiter\n",
    "    words = input_string.split()\n",
    "\n",
    "    # Initialize variables to keep track of the longest word and its length\n",
    "    longest_word = \"\"\n",
    "    max_length = 0\n",
    "\n",
    "    # Iterate through the words to find the longest one\n",
    "    for word in words:\n",
    "        # Remove any punctuation marks from the word (optional)\n",
    "        word = ''.join(c for c in word if c.isalnum())\n",
    "        \n",
    "        # Check if the current word is longer than the longest one found so far\n",
    "        if len(word) > max_length:\n",
    "            max_length = len(word)\n",
    "            longest_word = word\n",
    "\n",
    "    return longest_word\n",
    "\n",
    "input_string = \"This is a sample sentence with some long words like 'elephant' and 'hippopotamus'.\"\n",
    "result = find_longest_word(input_string)\n",
    "print(\"The longest word in the string is:\", result)\n"
   ]
  },
  {
   "cell_type": "code",
   "execution_count": 4,
   "id": "ae50f362-a636-416b-9ee6-767d8f1573db",
   "metadata": {},
   "outputs": [
    {
     "name": "stdout",
     "output_type": "stream",
     "text": [
      "The shortest word in the string is: a\n"
     ]
    }
   ],
   "source": [
    "def find_shortest_word(input_string):\n",
    "    # Split the input string into words using whitespace as the delimiter\n",
    "    words = input_string.split()\n",
    "\n",
    "    # Initialize variables to keep track of the shortest word and its length\n",
    "    shortest_word = None\n",
    "    min_length = float('inf')  # Set an initial minimum length to positive infinity\n",
    "\n",
    "    # Iterate through the words to find the shortest one\n",
    "    for word in words:\n",
    "        # Remove any punctuation marks from the word (optional)\n",
    "        word = ''.join(c for c in word if c.isalnum())\n",
    "        \n",
    "        # Check if the current word is shorter than the shortest one found so far\n",
    "        if len(word) < min_length:\n",
    "            min_length = len(word)\n",
    "            shortest_word = word\n",
    "\n",
    "    return shortest_word\n",
    "\n",
    "input_string = \"This is a sample sentence with some short words like 'cat' and 'dog'.\"\n",
    "result = find_shortest_word(input_string)\n",
    "print(\"The shortest word in the string is:\", result)\n",
    "\n"
   ]
  },
  {
   "cell_type": "code",
   "execution_count": 5,
   "id": "38e75fe5-aba5-41e8-a5b8-ba87323353aa",
   "metadata": {},
   "outputs": [
    {
     "name": "stdout",
     "output_type": "stream",
     "text": [
      "Reversed string: sentence. sample a is This\n"
     ]
    }
   ],
   "source": [
    "def reverse_words(input_string):\n",
    "    # Split the input string into words using whitespace as the delimiter\n",
    "    words = input_string.split()\n",
    "\n",
    "    # Reverse the order of words and join them back into a string\n",
    "    reversed_string = ' '.join(reversed(words))\n",
    "\n",
    "    return reversed_string\n",
    "\n",
    "input_string = \"This is a sample sentence.\"\n",
    "result = reverse_words(input_string)\n",
    "print(\"Reversed string:\", result)\n"
   ]
  },
  {
   "cell_type": "code",
   "execution_count": 6,
   "id": "942b7b3c-8f1e-467a-8fac-8c686fd1a3f3",
   "metadata": {},
   "outputs": [
    {
     "name": "stdout",
     "output_type": "stream",
     "text": [
      "The string is alphanumeric.\n"
     ]
    }
   ],
   "source": [
    "input_string = \"Hello123\"\n",
    "\n",
    "if input_string.isalnum():\n",
    "    print(\"The string is alphanumeric.\")\n",
    "else:\n",
    "    print(\"The string is not alphanumeric.\")\n"
   ]
  },
  {
   "cell_type": "code",
   "execution_count": 7,
   "id": "685b4005-071d-45a5-b86d-59a8b0fcdeaf",
   "metadata": {},
   "outputs": [
    {
     "name": "stdout",
     "output_type": "stream",
     "text": [
      "True\n",
      "False\n",
      "True\n"
     ]
    }
   ],
   "source": [
    "def is_alphanumeric(input_string):\n",
    "    # Iterate through each character in the string\n",
    "    for char in input_string:\n",
    "        if not char.isalnum():\n",
    "            return False\n",
    "    return True\n",
    "\n",
    "# Test cases\n",
    "input_string1 = \"Hello123\"\n",
    "input_string2 = \"Hello, World!\"\n",
    "input_string3 = \"12345\"\n",
    "\n",
    "print(is_alphanumeric(input_string1))  # Should print True\n",
    "print(is_alphanumeric(input_string2))  # Should print False\n",
    "print(is_alphanumeric(input_string3))  # Should print True\n"
   ]
  },
  {
   "cell_type": "code",
   "execution_count": 8,
   "id": "ac4a5b5c-6a58-4b2f-9e66-49782f6f898c",
   "metadata": {},
   "outputs": [
    {
     "name": "stdout",
     "output_type": "stream",
     "text": [
      "Digits from input_string1: ['1', '2', '3', '4', '5', '6']\n",
      "Digits from input_string2: ['1', '9', '9', '9']\n",
      "Digits from input_string3: []\n"
     ]
    }
   ],
   "source": [
    "import re\n",
    "\n",
    "def extract_digits(input_string):\n",
    "    # Use regular expression to find all digits in the input string\n",
    "    digits = re.findall(r'\\d', input_string)\n",
    "    \n",
    "    # Join the extracted digits into a single string or return a list of digits\n",
    "    # If you want the result as a string, use the following line:\n",
    "    # return ''.join(digits)\n",
    "    \n",
    "    # If you want the result as a list of digits, use the following line:\n",
    "    return digits\n",
    "\n",
    "# Test cases\n",
    "input_string1 = \"Hello123World456\"\n",
    "input_string2 = \"The price is $19.99\"\n",
    "input_string3 = \"NoDigitsHere\"\n",
    "\n",
    "result1 = extract_digits(input_string1)\n",
    "result2 = extract_digits(input_string2)\n",
    "result3 = extract_digits(input_string3)\n",
    "\n",
    "print(\"Digits from input_string1:\", result1)\n",
    "print(\"Digits from input_string2:\", result2)\n",
    "print(\"Digits from input_string3:\", result3)\n"
   ]
  },
  {
   "cell_type": "code",
   "execution_count": 9,
   "id": "15b4c6f7-13b9-472e-a604-7226a84f7c96",
   "metadata": {},
   "outputs": [
    {
     "name": "stdout",
     "output_type": "stream",
     "text": [
      "Alphabets from input_string1: ['H', 'e', 'l', 'l', 'o', 'W', 'o', 'r', 'l', 'd']\n",
      "Alphabets from input_string2: ['T', 'h', 'e', 'p', 'r', 'i', 'c', 'e', 'i', 's']\n",
      "Alphabets from input_string3: ['N', 'o', 'A', 'l', 'p', 'h', 'a', 'b', 'e', 't', 's', 'H', 'e', 'r', 'e']\n"
     ]
    }
   ],
   "source": [
    "import re\n",
    "\n",
    "def extract_alphabets(input_string):\n",
    "    # Use a regular expression to find all alphabetic characters in the input string\n",
    "    alphabets = re.findall(r'[a-zA-Z]', input_string)\n",
    "    \n",
    "    # Join the extracted alphabets into a single string or return a list of alphabets\n",
    "    # If you want the result as a string, use the following line:\n",
    "    # return ''.join(alphabets)\n",
    "    \n",
    "    # If you want the result as a list of alphabets, use the following line:\n",
    "    return alphabets\n",
    "\n",
    "# Test cases\n",
    "input_string1 = \"Hello123World456\"\n",
    "input_string2 = \"The price is $19.99\"\n",
    "input_string3 = \"NoAlphabetsHere\"\n",
    "\n",
    "result1 = extract_alphabets(input_string1)\n",
    "result2 = extract_alphabets(input_string2)\n",
    "result3 = extract_alphabets(input_string3)\n",
    "\n",
    "print(\"Alphabets from input_string1:\", result1)\n",
    "print(\"Alphabets from input_string2:\", result2)\n",
    "print(\"Alphabets from input_string3:\", result3)\n"
   ]
  },
  {
   "cell_type": "code",
   "execution_count": 10,
   "id": "e131e23d-214b-476a-b4aa-f8d9461b1dcb",
   "metadata": {},
   "outputs": [
    {
     "name": "stdout",
     "output_type": "stream",
     "text": [
      "Number of uppercase letters: 6\n"
     ]
    }
   ],
   "source": [
    "def count_uppercase_letters(input_string):\n",
    "    # Initialize a counter to keep track of the uppercase letters\n",
    "    count = 0\n",
    "    \n",
    "    # Iterate through each character in the string\n",
    "    for char in input_string:\n",
    "        if char.isupper():\n",
    "            count += 1\n",
    "    \n",
    "    return count\n",
    "\n",
    "# Test case\n",
    "input_string = \"Hello World! This Is A Test.\"\n",
    "\n",
    "uppercase_count = count_uppercase_letters(input_string)\n",
    "print(\"Number of uppercase letters:\", uppercase_count)\n"
   ]
  },
  {
   "cell_type": "code",
   "execution_count": 11,
   "id": "4103727c-3e90-4cc1-bcc0-ae5a768ecec2",
   "metadata": {},
   "outputs": [
    {
     "name": "stdout",
     "output_type": "stream",
     "text": [
      "Number of lowercase letters: 15\n"
     ]
    }
   ],
   "source": [
    "def count_lowercase_letters(input_string):\n",
    "    # Initialize a counter to keep track of the lowercase letters\n",
    "    count = 0\n",
    "    \n",
    "    # Iterate through each character in the string\n",
    "    for char in input_string:\n",
    "        if char.islower():\n",
    "            count += 1\n",
    "    \n",
    "    return count\n",
    "\n",
    "# Test case\n",
    "input_string = \"Hello World! This Is A Test.\"\n",
    "\n",
    "lowercase_count = count_lowercase_letters(input_string)\n",
    "print(\"Number of lowercase letters:\", lowercase_count)\n"
   ]
  },
  {
   "cell_type": "code",
   "execution_count": 12,
   "id": "b67753e5-587a-489a-ac4b-5f4aadeb2440",
   "metadata": {},
   "outputs": [
    {
     "name": "stdout",
     "output_type": "stream",
     "text": [
      "Swapped string: hELLO wORLD! tHIS iS a tEST.\n"
     ]
    }
   ],
   "source": [
    "def swap_case(input_string):\n",
    "    # Use the swapcase() method to swap the case of each character\n",
    "    swapped_string = input_string.swapcase()\n",
    "    return swapped_string\n",
    "\n",
    "# Test case\n",
    "input_string = \"Hello World! This Is A Test.\"\n",
    "\n",
    "swapped_result = swap_case(input_string)\n",
    "print(\"Swapped string:\", swapped_result)\n"
   ]
  },
  {
   "cell_type": "code",
   "execution_count": 13,
   "id": "55b6d82e-a516-4f5a-b42f-a6de1137ef91",
   "metadata": {},
   "outputs": [
    {
     "name": "stdout",
     "output_type": "stream",
     "text": [
      "Modified string: This is a sample sentence. Remove  word.\n"
     ]
    }
   ],
   "source": [
    "def remove_word(input_string, word_to_remove):\n",
    "    # Use the str.replace() method to replace the word with an empty string\n",
    "    modified_string = input_string.replace(word_to_remove, \"\")\n",
    "    return modified_string\n",
    "\n",
    "# Test case\n",
    "input_string = \"This is a sample sentence. Remove this word.\"\n",
    "\n",
    "word_to_remove = \"this\"\n",
    "\n",
    "result = remove_word(input_string, word_to_remove)\n",
    "print(\"Modified string:\", result)\n"
   ]
  },
  {
   "cell_type": "code",
   "execution_count": 14,
   "id": "5bf9f657-fe80-42ea-ab0e-fca24084b688",
   "metadata": {},
   "outputs": [
    {
     "name": "stdout",
     "output_type": "stream",
     "text": [
      "Is email1 valid? True\n",
      "Is email2 valid? False\n",
      "Is email3 valid? False\n"
     ]
    }
   ],
   "source": [
    "import re\n",
    "\n",
    "def is_valid_email(email):\n",
    "    # Define a regular expression pattern for a valid email address\n",
    "    pattern = r'^[a-zA-Z0-9._%+-]+@[a-zA-Z0-9.-]+\\.[a-zA-Z]{2,}$'\n",
    "    \n",
    "    # Use re.match() to check if the email matches the pattern\n",
    "    if re.match(pattern, email):\n",
    "        return True\n",
    "    else:\n",
    "        return False\n",
    "\n",
    "# Test cases\n",
    "email1 = \"john@example.com\"\n",
    "email2 = \"invalid_email@.com\"\n",
    "email3 = \"missingatexample.com\"\n",
    "\n",
    "print(\"Is email1 valid?\", is_valid_email(email1))  # Should print True\n",
    "print(\"Is email2 valid?\", is_valid_email(email2))  # Should print False\n",
    "print(\"Is email3 valid?\", is_valid_email(email3))  # Should print False\n"
   ]
  },
  {
   "cell_type": "code",
   "execution_count": 15,
   "id": "e4b8c64b-b24e-4b0c-8420-8e0c3700dab7",
   "metadata": {},
   "outputs": [
    {
     "name": "stdout",
     "output_type": "stream",
     "text": [
      "Username: john.doe\n"
     ]
    }
   ],
   "source": [
    "def extract_username(email):\n",
    "    # Split the email address at the \"@\" symbol\n",
    "    parts = email.split(\"@\")\n",
    "    \n",
    "    # Check if the email address has the correct format\n",
    "    if len(parts) == 2:\n",
    "        return parts[0]  # The first part is the username\n",
    "    else:\n",
    "        return None  # Invalid email format\n",
    "\n",
    "# Test case\n",
    "email = \"john.doe@example.com\"\n",
    "\n",
    "username = extract_username(email)\n",
    "if username is not None:\n",
    "    print(\"Username:\", username)\n",
    "else:\n",
    "    print(\"Invalid email format.\")\n"
   ]
  },
  {
   "cell_type": "code",
   "execution_count": 16,
   "id": "41096823-dda7-42ef-b888-c90320a362be",
   "metadata": {},
   "outputs": [
    {
     "name": "stdout",
     "output_type": "stream",
     "text": [
      "Domain: example.com\n"
     ]
    }
   ],
   "source": [
    "def extract_domain(email):\n",
    "    # Split the email address at the \"@\" symbol\n",
    "    parts = email.split(\"@\")\n",
    "    \n",
    "    # Check if the email address has the correct format\n",
    "    if len(parts) == 2:\n",
    "        return parts[1]  # The second part is the domain name\n",
    "    else:\n",
    "        return None  # Invalid email format\n",
    "\n",
    "# Test case\n",
    "email = \"john.doe@example.com\"\n",
    "\n",
    "domain = extract_domain(email)\n",
    "if domain is not None:\n",
    "    print(\"Domain:\", domain)\n",
    "else:\n",
    "    print(\"Invalid email format.\")\n"
   ]
  },
  {
   "cell_type": "code",
   "execution_count": 17,
   "id": "57a77b12-28c7-47b7-b8c4-270e6d844656",
   "metadata": {},
   "outputs": [
    {
     "name": "stdout",
     "output_type": "stream",
     "text": [
      "Cleaned string: This is a string with multiple spaces.\n"
     ]
    }
   ],
   "source": [
    "import re\n",
    "\n",
    "def replace_multiple_spaces(input_string):\n",
    "    # Use re.sub() to replace multiple spaces with a single space\n",
    "    cleaned_string = re.sub(r'\\s+', ' ', input_string)\n",
    "    return cleaned_string\n",
    "\n",
    "# Test case\n",
    "input_string = \"This   is   a   string   with   multiple   spaces.\"\n",
    "\n",
    "result = replace_multiple_spaces(input_string)\n",
    "print(\"Cleaned string:\", result)\n"
   ]
  },
  {
   "cell_type": "code",
   "execution_count": 18,
   "id": "61f4b9e9-894f-41ea-a6a8-f40807efbb17",
   "metadata": {},
   "outputs": [
    {
     "name": "stdout",
     "output_type": "stream",
     "text": [
      "Is url1 valid? True\n",
      "Is url2 valid? False\n",
      "Is url3 valid? True\n"
     ]
    }
   ],
   "source": [
    "from urllib.parse import urlparse\n",
    "\n",
    "def is_valid_url(url):\n",
    "    try:\n",
    "        result = urlparse(url)\n",
    "        return all([result.scheme, result.netloc])\n",
    "    except ValueError:\n",
    "        return False\n",
    "\n",
    "# Test cases\n",
    "url1 = \"https://www.example.com\"\n",
    "url2 = \"invalid-url.com\"\n",
    "url3 = \"ftp://ftp.example.com\"\n",
    "\n",
    "print(\"Is url1 valid?\", is_valid_url(url1))  # Should print True\n",
    "print(\"Is url2 valid?\", is_valid_url(url2))  # Should print False\n",
    "print(\"Is url3 valid?\", is_valid_url(url3))  # Should print True\n"
   ]
  },
  {
   "cell_type": "code",
   "execution_count": 19,
   "id": "05c79366-c277-4c98-b2f2-934f6aa7cf09",
   "metadata": {},
   "outputs": [
    {
     "name": "stdout",
     "output_type": "stream",
     "text": [
      "Protocol: https\n"
     ]
    }
   ],
   "source": [
    "from urllib.parse import urlparse\n",
    "\n",
    "def extract_protocol(url):\n",
    "    try:\n",
    "        result = urlparse(url)\n",
    "        return result.scheme\n",
    "    except ValueError:\n",
    "        return None\n",
    "\n",
    "# Test case\n",
    "url = \"https://www.example.com\"\n",
    "\n",
    "protocol = extract_protocol(url)\n",
    "if protocol is not None:\n",
    "    print(\"Protocol:\", protocol)\n",
    "else:\n",
    "    print(\"Invalid URL.\")\n"
   ]
  },
  {
   "cell_type": "code",
   "execution_count": 20,
   "id": "31e939cf-c19f-4845-96cc-ecb9c469f14c",
   "metadata": {},
   "outputs": [
    {
     "name": "stdout",
     "output_type": "stream",
     "text": [
      "'h': 1\n",
      "'e': 1\n",
      "'l': 3\n",
      "'o': 2\n",
      "'w': 1\n",
      "'r': 1\n",
      "'d': 1\n"
     ]
    }
   ],
   "source": [
    "def character_frequency(input_string):\n",
    "    # Initialize an empty dictionary to store character frequencies\n",
    "    frequency = {}\n",
    "\n",
    "    # Iterate through each character in the string\n",
    "    for char in input_string:\n",
    "        # Ignore spaces and consider only alphanumeric characters\n",
    "        if char.isalnum():\n",
    "            # Convert the character to lowercase to make the count case-insensitive\n",
    "            char = char.lower()\n",
    "            \n",
    "            # Increment the count for the character in the dictionary\n",
    "            if char in frequency:\n",
    "                frequency[char] += 1\n",
    "            else:\n",
    "                frequency[char] = 1\n",
    "\n",
    "    return frequency\n",
    "\n",
    "# Test case\n",
    "input_string = \"Hello World!\"\n",
    "\n",
    "char_freq = character_frequency(input_string)\n",
    "for char, count in char_freq.items():\n",
    "    print(f\"'{char}': {count}\")\n"
   ]
  },
  {
   "cell_type": "code",
   "execution_count": 21,
   "id": "fae428f2-9301-4e86-9110-46bcc5a9d5fd",
   "metadata": {},
   "outputs": [
    {
     "name": "stdout",
     "output_type": "stream",
     "text": [
      "Cleaned string: Hello World This is a sample string with punctuation\n"
     ]
    }
   ],
   "source": [
    "import re\n",
    "\n",
    "def remove_punctuation(input_string):\n",
    "    # Use re.sub() to remove all punctuation characters\n",
    "    cleaned_string = re.sub(r'[^\\w\\s]', '', input_string)\n",
    "    return cleaned_string\n",
    "\n",
    "# Test case\n",
    "input_string = \"Hello, World! This is a sample string with punctuation.\"\n",
    "\n",
    "result = remove_punctuation(input_string)\n",
    "print(\"Cleaned string:\", result)\n"
   ]
  },
  {
   "cell_type": "code",
   "execution_count": 22,
   "id": "a5f0426f-8100-4857-93b0-366ab454b011",
   "metadata": {},
   "outputs": [
    {
     "name": "stdout",
     "output_type": "stream",
     "text": [
      "Does string1 contain only digits? True\n",
      "Does string2 contain only digits? False\n",
      "Does string3 contain only digits? False\n"
     ]
    }
   ],
   "source": [
    "def contains_only_digits(input_string):\n",
    "    # Check if all characters in the string are digits\n",
    "    return input_string.isdigit()\n",
    "\n",
    "# Test cases\n",
    "string1 = \"12345\"\n",
    "string2 = \"Hello123\"\n",
    "string3 = \"123 456\"\n",
    "\n",
    "print(\"Does string1 contain only digits?\", contains_only_digits(string1))  # Should print True\n",
    "print(\"Does string2 contain only digits?\", contains_only_digits(string2))  # Should print False\n",
    "print(\"Does string3 contain only digits?\", contains_only_digits(string3))  # Should print False\n"
   ]
  },
  {
   "cell_type": "code",
   "execution_count": 23,
   "id": "3dcab1f2-e999-460f-91af-583ad62a489b",
   "metadata": {},
   "outputs": [
    {
     "name": "stdout",
     "output_type": "stream",
     "text": [
      "Does string1 contain only alphabets? True\n",
      "Does string2 contain only alphabets? False\n",
      "Does string3 contain only alphabets? False\n"
     ]
    }
   ],
   "source": [
    "def contains_only_alphabets(input_string):\n",
    "    # Check if all characters in the string are alphabetic\n",
    "    return input_string.isalpha()\n",
    "\n",
    "# Test cases\n",
    "string1 = \"Hello\"\n",
    "string2 = \"Hello123\"\n",
    "string3 = \"12345\"\n",
    "\n",
    "print(\"Does string1 contain only alphabets?\", contains_only_alphabets(string1))  # Should print True\n",
    "print(\"Does string2 contain only alphabets?\", contains_only_alphabets(string2))  # Should print False\n",
    "print(\"Does string3 contain only alphabets?\", contains_only_alphabets(string3))  # Should print False\n"
   ]
  },
  {
   "cell_type": "code",
   "execution_count": 24,
   "id": "beb6b108-be57-4742-a634-3fb31203321b",
   "metadata": {},
   "outputs": [
    {
     "name": "stdout",
     "output_type": "stream",
     "text": [
      "['H', 'e', 'l', 'l', 'o', ',', ' ', 'W', 'o', 'r', 'l', 'd', '!']\n"
     ]
    }
   ],
   "source": [
    "input_string = \"Hello, World!\"\n",
    "char_list = list(input_string)\n",
    "print(char_list)\n"
   ]
  },
  {
   "cell_type": "code",
   "execution_count": 25,
   "id": "44d2eba1-3139-4431-b8b4-65a0108a6ff6",
   "metadata": {},
   "outputs": [
    {
     "name": "stdout",
     "output_type": "stream",
     "text": [
      "Are string1 and string2 anagrams? True\n",
      "Are string1 and string3 anagrams? False\n",
      "Are string1 and string4 anagrams? False\n"
     ]
    }
   ],
   "source": [
    "def are_anagrams(str1, str2):\n",
    "    # Remove spaces and convert both strings to lowercase (optional)\n",
    "    str1 = str1.replace(\" \", \"\").lower()\n",
    "    str2 = str2.replace(\" \", \"\").lower()\n",
    "    \n",
    "    # Check if the sorted strings are the same\n",
    "    return sorted(str1) == sorted(str2)\n",
    "\n",
    "# Test cases\n",
    "string1 = \"listen\"\n",
    "string2 = \"silent\"\n",
    "string3 = \"hello\"\n",
    "string4 = \"world\"\n",
    "\n",
    "print(\"Are string1 and string2 anagrams?\", are_anagrams(string1, string2))  # Should print True\n",
    "print(\"Are string1 and string3 anagrams?\", are_anagrams(string1, string3))  # Should print False\n",
    "print(\"Are string1 and string4 anagrams?\", are_anagrams(string1, string4))  # Should print False\n"
   ]
  },
  {
   "cell_type": "code",
   "execution_count": 26,
   "id": "c9cca39f-433d-4ab4-b3fb-c9ebdf3264c5",
   "metadata": {},
   "outputs": [
    {
     "name": "stdout",
     "output_type": "stream",
     "text": [
      "Encoded string: Khoor, Zruog!\n"
     ]
    }
   ],
   "source": [
    "def caesar_cipher(text, shift):\n",
    "    encoded_text = \"\"\n",
    "    for char in text:\n",
    "        if char.isalpha():\n",
    "            is_upper = char.isupper()\n",
    "            char = char.lower()\n",
    "            shifted = ord(char) + shift - ord('a')\n",
    "            shifted %= 26\n",
    "            char = chr(shifted + ord('a'))\n",
    "            if is_upper:\n",
    "                char = char.upper()\n",
    "        encoded_text += char\n",
    "    return encoded_text\n",
    "\n",
    "# Test case\n",
    "input_string = \"Hello, World!\"\n",
    "shift_value = 3\n",
    "\n",
    "encoded_string = caesar_cipher(input_string, shift_value)\n",
    "print(\"Encoded string:\", encoded_string)\n"
   ]
  },
  {
   "cell_type": "code",
   "execution_count": 27,
   "id": "c25a3f6c-a1fa-4551-b403-70042a95f6fd",
   "metadata": {},
   "outputs": [
    {
     "name": "stdout",
     "output_type": "stream",
     "text": [
      "Most frequent word: test\n"
     ]
    }
   ],
   "source": [
    "def most_frequent_word(input_string):\n",
    "    # Tokenize the input string into words\n",
    "    words = input_string.split()\n",
    "    \n",
    "    # Create a dictionary to store word frequencies\n",
    "    word_freq = {}\n",
    "    \n",
    "    # Count the frequency of each word\n",
    "    for word in words:\n",
    "        # Remove punctuation and convert to lowercase (optional)\n",
    "        word = word.strip(\".,!?\").lower()\n",
    "        \n",
    "        if word in word_freq:\n",
    "            word_freq[word] += 1\n",
    "        else:\n",
    "            word_freq[word] = 1\n",
    "    \n",
    "    # Find the word with the highest frequency\n",
    "    most_frequent = max(word_freq, key=word_freq.get)\n",
    "    \n",
    "    return most_frequent\n",
    "\n",
    "# Test case\n",
    "input_string = \"This is a test. Test this is a sample test.\"\n",
    "\n",
    "most_freq_word = most_frequent_word(input_string)\n",
    "print(\"Most frequent word:\", most_freq_word)\n"
   ]
  },
  {
   "cell_type": "code",
   "execution_count": 28,
   "id": "ba589d02-8c6e-4078-85ff-7e36564f3008",
   "metadata": {},
   "outputs": [
    {
     "name": "stdout",
     "output_type": "stream",
     "text": [
      "Unique words: {'is', 'a', 'this', 'sample', 'test'}\n"
     ]
    }
   ],
   "source": [
    "def unique_words(input_string):\n",
    "    # Tokenize the input string into words\n",
    "    words = input_string.split()\n",
    "    \n",
    "    # Create a set to store unique words\n",
    "    unique_word_set = set()\n",
    "    \n",
    "    # Iterate through the words and add them to the set\n",
    "    for word in words:\n",
    "        # Remove punctuation and convert to lowercase (optional)\n",
    "        word = word.strip(\".,!?\").lower()\n",
    "        \n",
    "        unique_word_set.add(word)\n",
    "    \n",
    "    return unique_word_set\n",
    "\n",
    "# Test case\n",
    "input_string = \"This is a test. Test this is a sample test.\"\n",
    "\n",
    "unique_words_set = unique_words(input_string)\n",
    "print(\"Unique words:\", unique_words_set)\n"
   ]
  },
  {
   "cell_type": "code",
   "execution_count": 30,
   "id": "18b469cd-b5ee-43dc-a870-c762cfb1e11f",
   "metadata": {},
   "outputs": [
    {
     "name": "stdout",
     "output_type": "stream",
     "text": [
      "Syllables in apple: 1\n",
      "Syllables in banana: 3\n",
      "Syllables in elephant: 3\n",
      "Syllables in rhythm: 1\n",
      "Syllables in hello: 2\n"
     ]
    }
   ],
   "source": [
    "def count_syllables(word):\n",
    "    # Remove common suffixes that don't contribute to syllables (e.g., \"ed\", \"es\")\n",
    "    word = word.rstrip('es')\n",
    "    word = word.rstrip('ed')\n",
    "    \n",
    "    # Convert the word to lowercase and count the vowel sounds (a, e, i, o, u)\n",
    "    vowels = \"aeiou\"\n",
    "    syllable_count = 0\n",
    "    prev_char = None\n",
    "\n",
    "    for char in word:\n",
    "        char = char.lower()\n",
    "        if char in vowels and (prev_char is None or prev_char not in vowels):\n",
    "            syllable_count += 1\n",
    "        prev_char = char\n",
    "    \n",
    "    # Adjust for single-letter words and \"y\" at the end\n",
    "    if len(word) == 1 and word != \"y\":\n",
    "        return 1\n",
    "    if word.endswith(\"y\"):\n",
    "        syllable_count -= 1\n",
    "\n",
    "    # Ensure a minimum of one syllable\n",
    "    return max(syllable_count, 1)\n",
    "\n",
    "# Test cases\n",
    "word1 = \"apple\"\n",
    "word2 = \"banana\"\n",
    "word3 = \"elephant\"\n",
    "word4 = \"rhythm\"\n",
    "word5 = \"hello\"\n",
    "\n",
    "print(\"Syllables in\", word1 + \":\", count_syllables(word1))\n",
    "print(\"Syllables in\", word2 + \":\", count_syllables(word2))\n",
    "print(\"Syllables in\", word3 + \":\", count_syllables(word3))\n",
    "print(\"Syllables in\", word4 + \":\", count_syllables(word4))\n",
    "print(\"Syllables in\", word5 + \":\", count_syllables(word5))\n"
   ]
  },
  {
   "cell_type": "code",
   "execution_count": 31,
   "id": "011cf383-a137-4c8e-8838-49039388cc08",
   "metadata": {},
   "outputs": [
    {
     "name": "stdout",
     "output_type": "stream",
     "text": [
      "Does string1 contain special characters? False\n",
      "Does string2 contain special characters? True\n",
      "Does string3 contain special characters? False\n"
     ]
    }
   ],
   "source": [
    "import re\n",
    "\n",
    "def contains_special_characters(input_string):\n",
    "    # Use a regular expression to check for special characters\n",
    "    pattern = r'[!@#$%^&*()_+{}\\[\\]:;<>,.?~\\\\|/`=\"\\'\\^\\-_]'\n",
    "    if re.search(pattern, input_string):\n",
    "        return True\n",
    "    else:\n",
    "        return False\n",
    "\n",
    "# Test cases\n",
    "string1 = \"Hello123\"\n",
    "string2 = \"Special characters: @#&*!\"\n",
    "string3 = \"AlphanumericOnly\"\n",
    "\n",
    "print(\"Does string1 contain special characters?\", contains_special_characters(string1))  # Should print False\n",
    "print(\"Does string2 contain special characters?\", contains_special_characters(string2))  # Should print True\n",
    "print(\"Does string3 contain special characters?\", contains_special_characters(string3))  # Should print False\n"
   ]
  },
  {
   "cell_type": "code",
   "execution_count": 32,
   "id": "bd9d0c16-fa5c-440c-bc02-15e4aaa792fa",
   "metadata": {},
   "outputs": [
    {
     "name": "stdout",
     "output_type": "stream",
     "text": [
      "Updated string: This is sample sentence.\n"
     ]
    }
   ],
   "source": [
    "def remove_nth_word(input_string, n):\n",
    "    # Tokenize the input string into words\n",
    "    words = input_string.split()\n",
    "\n",
    "    # Check if the specified index is valid\n",
    "    if 0 <= n < len(words):\n",
    "        # Remove the nth word from the list of words\n",
    "        del words[n]\n",
    "        # Join the remaining words to form the updated string\n",
    "        updated_string = ' '.join(words)\n",
    "        return updated_string\n",
    "    else:\n",
    "        return \"Invalid index\"\n",
    "\n",
    "# Test case\n",
    "input_string = \"This is a sample sentence.\"\n",
    "\n",
    "n = 2  # Remove the third word (index 2)\n",
    "\n",
    "result = remove_nth_word(input_string, n)\n",
    "print(\"Updated string:\", result)\n"
   ]
  },
  {
   "cell_type": "code",
   "execution_count": 33,
   "id": "9efa2e17-732c-43ad-ba7c-cc0dfbb9d4be",
   "metadata": {},
   "outputs": [
    {
     "name": "stdout",
     "output_type": "stream",
     "text": [
      "Updated string: This is inserted a sample sentence.\n"
     ]
    }
   ],
   "source": [
    "def insert_word_at_nth_position(input_string, new_word, n):\n",
    "    # Tokenize the input string into words\n",
    "    words = input_string.split()\n",
    "\n",
    "    # Check if the specified index is valid\n",
    "    if 0 <= n <= len(words):\n",
    "        # Insert the new word at the specified position\n",
    "        words.insert(n, new_word)\n",
    "        # Join the words to form the updated string\n",
    "        updated_string = ' '.join(words)\n",
    "        return updated_string\n",
    "    else:\n",
    "        return \"Invalid index\"\n",
    "\n",
    "# Test case\n",
    "input_string = \"This is a sample sentence.\"\n",
    "\n",
    "new_word = \"inserted\"\n",
    "n = 2  # Insert at the third position (index 2)\n",
    "\n",
    "result = insert_word_at_nth_position(input_string, new_word, n)\n",
    "print(\"Updated string:\", result)\n"
   ]
  },
  {
   "cell_type": "code",
   "execution_count": 34,
   "id": "ca15af2d-4edc-492e-86ab-c6130b76fd43",
   "metadata": {},
   "outputs": [
    {
     "name": "stdout",
     "output_type": "stream",
     "text": [
      "['John', 'Doe', '30']\n",
      "['Alice', 'Smith', '25']\n",
      "['Bob', 'Johnson', '35']\n"
     ]
    }
   ],
   "source": [
    "import csv\n",
    "from io import StringIO\n",
    "\n",
    "def csv_string_to_list(csv_string):\n",
    "    # Create a file-like object from the CSV string\n",
    "    csv_file = StringIO(csv_string)\n",
    "    \n",
    "    # Initialize a CSV reader\n",
    "    csv_reader = csv.reader(csv_file)\n",
    "    \n",
    "    # Convert the CSV data into a list of lists\n",
    "    data_list = [row for row in csv_reader]\n",
    "    \n",
    "    return data_list\n",
    "\n",
    "# Test case\n",
    "csv_string = \"John,Doe,30\\nAlice,Smith,25\\nBob,Johnson,35\"\n",
    "\n",
    "data_list = csv_string_to_list(csv_string)\n",
    "for row in data_list:\n",
    "    print(row)\n"
   ]
  },
  {
   "cell_type": "code",
   "execution_count": 35,
   "id": "f8552aef-1b28-4bed-a7b2-acaccded699d",
   "metadata": {},
   "outputs": [
    {
     "name": "stdout",
     "output_type": "stream",
     "text": [
      "[1, 2, 3, 4, 5, 6, 7, 8, 9, 10]\n"
     ]
    }
   ],
   "source": [
    "integer_list = [i for i in range(1, 11)]\n",
    "print(integer_list)\n"
   ]
  },
  {
   "cell_type": "code",
   "execution_count": 36,
   "id": "dfef9288-ddb0-440d-812d-72c3c52e6600",
   "metadata": {},
   "outputs": [
    {
     "name": "stdout",
     "output_type": "stream",
     "text": [
      "Length of the list: 5\n"
     ]
    }
   ],
   "source": [
    "def find_length_of_list(input_list):\n",
    "    length = 0\n",
    "    for _ in input_list:\n",
    "        length += 1\n",
    "    return length\n",
    "\n",
    "# Test case\n",
    "my_list = [1, 2, 3, 4, 5]\n",
    "\n",
    "length = find_length_of_list(my_list)\n",
    "print(\"Length of the list:\", length)\n"
   ]
  },
  {
   "cell_type": "code",
   "execution_count": 37,
   "id": "58eb8de2-e241-4476-b4dd-ed29304e614e",
   "metadata": {},
   "outputs": [
    {
     "name": "stdout",
     "output_type": "stream",
     "text": [
      "[1, 2, 3, 4, 5]\n"
     ]
    }
   ],
   "source": [
    "my_list = [1, 2, 3, 4]\n",
    "element_to_append = 5\n",
    "\n",
    "my_list.append(element_to_append)\n",
    "print(my_list)\n"
   ]
  },
  {
   "cell_type": "code",
   "execution_count": 38,
   "id": "b1832dbb-bda8-4ec4-98b4-29e59e0e62f1",
   "metadata": {},
   "outputs": [
    {
     "name": "stdout",
     "output_type": "stream",
     "text": [
      "[1, 2, 99, 3, 4, 5]\n"
     ]
    }
   ],
   "source": [
    "my_list = [1, 2, 3, 4, 5]\n",
    "element_to_insert = 99\n",
    "index_to_insert = 2  # Insert at index 2 (0-based index)\n",
    "\n",
    "my_list.insert(index_to_insert, element_to_insert)\n",
    "print(my_list)\n"
   ]
  },
  {
   "cell_type": "code",
   "execution_count": 39,
   "id": "11c8af2b-a26b-47a2-9dac-41305c324f45",
   "metadata": {},
   "outputs": [
    {
     "name": "stdout",
     "output_type": "stream",
     "text": [
      "[1, 2, 4, 5]\n"
     ]
    }
   ],
   "source": [
    "my_list = [1, 2, 3, 4, 5]\n",
    "element_to_remove = 3\n",
    "\n",
    "my_list.remove(element_to_remove)\n",
    "print(my_list)\n"
   ]
  },
  {
   "cell_type": "code",
   "execution_count": 40,
   "id": "4f450fd9-06bd-4267-8077-316a36f64ddb",
   "metadata": {},
   "outputs": [
    {
     "name": "stdout",
     "output_type": "stream",
     "text": [
      "[1, 2, 4, 5]\n"
     ]
    }
   ],
   "source": [
    "my_list = [1, 2, 3, 4, 5]\n",
    "index_to_remove = 2  # Index to remove (0-based index)\n",
    "\n",
    "if 0 <= index_to_remove < len(my_list):\n",
    "    my_list = my_list[:index_to_remove] + my_list[index_to_remove + 1:]\n",
    "else:\n",
    "    print(\"Invalid index\")\n",
    "\n",
    "print(my_list)\n"
   ]
  },
  {
   "cell_type": "code",
   "execution_count": 41,
   "id": "5131466a-5862-4529-8692-434643a2abec",
   "metadata": {},
   "outputs": [
    {
     "name": "stdout",
     "output_type": "stream",
     "text": [
      "3 exists in the list.\n"
     ]
    }
   ],
   "source": [
    "my_list = [1, 2, 3, 4, 5]\n",
    "element_to_check = 3\n",
    "\n",
    "if element_to_check in my_list:\n",
    "    print(f\"{element_to_check} exists in the list.\")\n",
    "else:\n",
    "    print(f\"{element_to_check} does not exist in the list.\")\n"
   ]
  },
  {
   "cell_type": "code",
   "execution_count": 42,
   "id": "95d5114e-2c2a-4f30-9d16-0b612b904d9b",
   "metadata": {},
   "outputs": [
    {
     "name": "stdout",
     "output_type": "stream",
     "text": [
      "The first occurrence of 3 is at index 2.\n"
     ]
    }
   ],
   "source": [
    "my_list = [1, 2, 3, 4, 5]\n",
    "element_to_find = 3\n",
    "\n",
    "try:\n",
    "    index = my_list.index(element_to_find)\n",
    "    print(f\"The first occurrence of {element_to_find} is at index {index}.\")\n",
    "except ValueError:\n",
    "    print(f\"{element_to_find} is not in the list.\")\n"
   ]
  },
  {
   "cell_type": "code",
   "execution_count": 43,
   "id": "1deb5fa5-a0e4-480b-8299-fc549a2b7bf6",
   "metadata": {},
   "outputs": [
    {
     "name": "stdout",
     "output_type": "stream",
     "text": [
      "The element 3 appears 3 times in the list.\n"
     ]
    }
   ],
   "source": [
    "my_list = [1, 2, 3, 4, 5, 3, 6, 3]\n",
    "element_to_count = 3\n",
    "\n",
    "count = my_list.count(element_to_count)\n",
    "\n",
    "print(f\"The element {element_to_count} appears {count} times in the list.\")\n"
   ]
  },
  {
   "cell_type": "code",
   "execution_count": 45,
   "id": "0130ff3b-179e-4397-8af0-ebd0f155db52",
   "metadata": {},
   "outputs": [
    {
     "name": "stdout",
     "output_type": "stream",
     "text": [
      "[5, 4, 3, 2, 1]\n"
     ]
    }
   ],
   "source": [
    "my_list = [1, 2, 3, 4, 5]\n",
    "my_list.reverse()\n",
    "print(my_list)\n"
   ]
  },
  {
   "cell_type": "code",
   "execution_count": 46,
   "id": "e285bc27-0383-4479-ba63-73140d22964f",
   "metadata": {},
   "outputs": [
    {
     "name": "stdout",
     "output_type": "stream",
     "text": [
      "[1, 2, 5, 6, 9]\n"
     ]
    }
   ],
   "source": [
    "my_list = [5, 2, 9, 1, 6]\n",
    "my_list.sort()\n",
    "print(my_list)\n"
   ]
  },
  {
   "cell_type": "code",
   "execution_count": 47,
   "id": "0d36d1fa-495f-4d04-8e1b-9dfb3aa78bbf",
   "metadata": {},
   "outputs": [
    {
     "name": "stdout",
     "output_type": "stream",
     "text": [
      "[9, 6, 5, 2, 1]\n"
     ]
    }
   ],
   "source": [
    "my_list = [5, 2, 9, 1, 6]\n",
    "my_list.sort(reverse=True)\n",
    "print(my_list)\n"
   ]
  },
  {
   "cell_type": "code",
   "execution_count": 48,
   "id": "1de9aa87-c753-4e4c-8f53-73df66714c03",
   "metadata": {},
   "outputs": [
    {
     "name": "stdout",
     "output_type": "stream",
     "text": [
      "[2, 4, 6, 8, 10, 12, 14, 16, 18, 20]\n"
     ]
    }
   ],
   "source": [
    "even_numbers = [x for x in range(1, 21) if x % 2 == 0]\n",
    "print(even_numbers)\n"
   ]
  },
  {
   "cell_type": "code",
   "execution_count": 49,
   "id": "539eaf49-daa0-445a-abef-df911224bb95",
   "metadata": {},
   "outputs": [
    {
     "name": "stdout",
     "output_type": "stream",
     "text": [
      "[1, 3, 5, 7, 9, 11, 13, 15, 17, 19]\n"
     ]
    }
   ],
   "source": [
    "odd_numbers = [x for x in range(1, 21) if x % 2 != 0]\n",
    "print(odd_numbers)\n"
   ]
  },
  {
   "cell_type": "code",
   "execution_count": 50,
   "id": "8f1f9dae-0871-4e33-97ed-472aab862878",
   "metadata": {},
   "outputs": [
    {
     "name": "stdout",
     "output_type": "stream",
     "text": [
      "Sum of elements: 15\n"
     ]
    }
   ],
   "source": [
    "my_list = [1, 2, 3, 4, 5]\n",
    "\n",
    "sum_of_elements = sum(my_list)\n",
    "print(\"Sum of elements:\", sum_of_elements)\n"
   ]
  },
  {
   "cell_type": "code",
   "execution_count": 51,
   "id": "e44f31cb-dd64-4a89-bdbb-c259a94a018a",
   "metadata": {},
   "outputs": [
    {
     "name": "stdout",
     "output_type": "stream",
     "text": [
      "Maximum value: 9\n"
     ]
    }
   ],
   "source": [
    "my_list = [5, 2, 9, 1, 6]\n",
    "\n",
    "max_value = max(my_list)\n",
    "print(\"Maximum value:\", max_value)\n"
   ]
  },
  {
   "cell_type": "code",
   "execution_count": 52,
   "id": "b0cc3981-94c7-4990-a2aa-db429dee4408",
   "metadata": {},
   "outputs": [
    {
     "name": "stdout",
     "output_type": "stream",
     "text": [
      "[1, 4, 9, 16, 25, 36, 49, 64, 81, 100]\n"
     ]
    }
   ],
   "source": [
    "squares = [x**2 for x in range(1, 11)]\n",
    "print(squares)\n"
   ]
  },
  {
   "cell_type": "code",
   "execution_count": 53,
   "id": "c2fb73de-294a-41dc-a6af-0ff55bc3c65c",
   "metadata": {},
   "outputs": [
    {
     "name": "stdout",
     "output_type": "stream",
     "text": [
      "[64, 92, 59, 10, 61, 71, 47, 6, 30, 76]\n"
     ]
    }
   ],
   "source": [
    "import random\n",
    "\n",
    "# Generate a list of 10 random integers between 1 and 100\n",
    "random_numbers = [random.randint(1, 100) for _ in range(10)]\n",
    "print(random_numbers)\n"
   ]
  },
  {
   "cell_type": "code",
   "execution_count": 54,
   "id": "2d01905a-d352-48f8-8af4-d880593d97b3",
   "metadata": {},
   "outputs": [
    {
     "name": "stdout",
     "output_type": "stream",
     "text": [
      "[1, 2, 3, 4, 5]\n"
     ]
    }
   ],
   "source": [
    "my_list = [1, 2, 2, 3, 4, 4, 5]\n",
    "\n",
    "# Remove duplicates by converting to a set and back to a list\n",
    "unique_list = list(set(my_list))\n",
    "\n",
    "print(unique_list)\n"
   ]
  },
  {
   "cell_type": "code",
   "execution_count": 55,
   "id": "9369efa7-8da0-41e1-9a62-875258ffc0af",
   "metadata": {},
   "outputs": [
    {
     "name": "stdout",
     "output_type": "stream",
     "text": [
      "[3, 4, 5]\n"
     ]
    }
   ],
   "source": [
    "list1 = [1, 2, 3, 4, 5]\n",
    "list2 = [3, 4, 5, 6, 7]\n",
    "\n",
    "common_elements = [element for element in list1 if element in list2]\n",
    "\n",
    "print(common_elements)\n"
   ]
  },
  {
   "cell_type": "code",
   "execution_count": 56,
   "id": "91e6e0ee-2f99-4794-92ef-f86d63b47b3d",
   "metadata": {},
   "outputs": [
    {
     "name": "stdout",
     "output_type": "stream",
     "text": [
      "[1, 2]\n"
     ]
    }
   ],
   "source": [
    "list1 = [1, 2, 3, 4, 5]\n",
    "list2 = [3, 4, 5, 6, 7]\n",
    "\n",
    "difference = [element for element in list1 if element not in list2]\n",
    "\n",
    "print(difference)\n"
   ]
  },
  {
   "cell_type": "code",
   "execution_count": 57,
   "id": "3f92dd03-c58f-4246-b844-ead12a1df624",
   "metadata": {},
   "outputs": [
    {
     "name": "stdout",
     "output_type": "stream",
     "text": [
      "[1, 2, 3, 4, 5, 6]\n"
     ]
    }
   ],
   "source": [
    "list1 = [1, 2, 3]\n",
    "list2 = [4, 5, 6]\n",
    "\n",
    "merged_list = list1 + list2\n",
    "\n",
    "print(merged_list)\n"
   ]
  },
  {
   "cell_type": "code",
   "execution_count": 58,
   "id": "f2398599-ab1f-43cf-bf4a-36b7772d3f46",
   "metadata": {},
   "outputs": [
    {
     "name": "stdout",
     "output_type": "stream",
     "text": [
      "[2, 4, 6, 8, 10]\n"
     ]
    }
   ],
   "source": [
    "my_list = [1, 2, 3, 4, 5]\n",
    "\n",
    "doubled_list = [x * 2 for x in my_list]\n",
    "\n",
    "print(doubled_list)\n"
   ]
  },
  {
   "cell_type": "code",
   "execution_count": 59,
   "id": "d756ed31-6b14-40c4-abb6-3839002de39b",
   "metadata": {},
   "outputs": [
    {
     "name": "stdout",
     "output_type": "stream",
     "text": [
      "[1, 3, 5]\n",
      "[1, 3, 5]\n"
     ]
    }
   ],
   "source": [
    "my_list = [1, 2, 3, 4, 5, 6]\n",
    "\n",
    "filtered_list = [x for x in my_list if x % 2 != 0]\n",
    "\n",
    "print(filtered_list)\n",
    "my_list = [1, 2, 3, 4, 5, 6]\n",
    "\n",
    "filtered_list = [x for x in my_list if x % 2 != 0]\n",
    "\n",
    "print(filtered_list)\n"
   ]
  },
  {
   "cell_type": "code",
   "execution_count": 60,
   "id": "88efa896-1774-4dd6-afad-2aae91982061",
   "metadata": {},
   "outputs": [
    {
     "name": "stdout",
     "output_type": "stream",
     "text": [
      "[1, 2, 3, 4, 5]\n"
     ]
    }
   ],
   "source": [
    "string_list = [\"1\", \"2\", \"3\", \"4\", \"5\"]\n",
    "\n",
    "integer_list = [int(x) for x in string_list]\n",
    "\n",
    "print(integer_list)\n"
   ]
  },
  {
   "cell_type": "code",
   "execution_count": 61,
   "id": "a581ff2f-62fb-452e-a0f4-f7353cd90189",
   "metadata": {},
   "outputs": [
    {
     "name": "stdout",
     "output_type": "stream",
     "text": [
      "['1', '2', '3', '4', '5']\n"
     ]
    }
   ],
   "source": [
    "integer_list = [1, 2, 3, 4, 5]\n",
    "\n",
    "string_list = [str(x) for x in integer_list]\n",
    "\n",
    "print(string_list)\n"
   ]
  },
  {
   "cell_type": "code",
   "execution_count": 62,
   "id": "060a4c71-4696-4f4a-86f7-97f2a48ec34d",
   "metadata": {},
   "outputs": [
    {
     "name": "stdout",
     "output_type": "stream",
     "text": [
      "[1, 2, 3, 4, 5, 6, 7]\n"
     ]
    }
   ],
   "source": [
    "def flatten_list(nested_list):\n",
    "    flat_list = []\n",
    "    for item in nested_list:\n",
    "        if isinstance(item, list):\n",
    "            flat_list.extend(flatten_list(item))\n",
    "        else:\n",
    "            flat_list.append(item)\n",
    "    return flat_list\n",
    "\n",
    "nested_list = [1, [2, 3], [4, [5, 6]], 7]\n",
    "\n",
    "flat_list = flatten_list(nested_list)\n",
    "print(flat_list)\n"
   ]
  },
  {
   "cell_type": "code",
   "execution_count": 63,
   "id": "2769eeab-4fb5-4f53-a2e3-c6b642644271",
   "metadata": {},
   "outputs": [
    {
     "name": "stdout",
     "output_type": "stream",
     "text": [
      "[0, 1, 1, 2, 3, 5, 8, 13, 21, 34]\n"
     ]
    }
   ],
   "source": [
    "# Function to generate the first 10 Fibonacci numbers\n",
    "def generate_fibonacci(n):\n",
    "    fibonacci_list = [0, 1]  # Initialize the list with the first two Fibonacci numbers\n",
    "    while len(fibonacci_list) < n:\n",
    "        next_fibonacci = fibonacci_list[-1] + fibonacci_list[-2]\n",
    "        fibonacci_list.append(next_fibonacci)\n",
    "    return fibonacci_list\n",
    "\n",
    "# Generate the first 10 Fibonacci numbers\n",
    "first_10_fibonacci = generate_fibonacci(10)\n",
    "print(first_10_fibonacci)\n"
   ]
  },
  {
   "cell_type": "code",
   "execution_count": 64,
   "id": "e5ed2cd2-64e6-4336-ac0d-376edd832294",
   "metadata": {},
   "outputs": [
    {
     "name": "stdout",
     "output_type": "stream",
     "text": [
      "The list is sorted in ascending order.\n"
     ]
    }
   ],
   "source": [
    "def is_sorted(arr):\n",
    "    n = len(arr)\n",
    "    for i in range(1, n):\n",
    "        if arr[i] < arr[i - 1]:\n",
    "            return False\n",
    "    return True\n",
    "\n",
    "my_list = [1, 2, 3, 4, 5]\n",
    "\n",
    "if is_sorted(my_list):\n",
    "    print(\"The list is sorted in ascending order.\")\n",
    "else:\n",
    "    print(\"The list is not sorted in ascending order.\")\n"
   ]
  },
  {
   "cell_type": "code",
   "execution_count": 65,
   "id": "e230bef1-d350-4787-a19e-6f8183346e30",
   "metadata": {},
   "outputs": [
    {
     "name": "stdout",
     "output_type": "stream",
     "text": [
      "[3, 4, 5, 1, 2]\n"
     ]
    }
   ],
   "source": [
    "def rotate_left(arr, n):\n",
    "    if not arr:\n",
    "        return arr  # Return the original list if it's empty\n",
    "    n %= len(arr)  # Ensure that n is within the length of the list\n",
    "    return arr[n:] + arr[:n]\n",
    "\n",
    "my_list = [1, 2, 3, 4, 5]\n",
    "n = 2  # Number of positions to rotate\n",
    "\n",
    "rotated_list = rotate_left(my_list, n)\n",
    "print(rotated_list)\n"
   ]
  },
  {
   "cell_type": "code",
   "execution_count": 66,
   "id": "c86a1135-daf9-4520-92f2-882e702e440a",
   "metadata": {},
   "outputs": [
    {
     "name": "stdout",
     "output_type": "stream",
     "text": [
      "[4, 5, 1, 2, 3]\n"
     ]
    }
   ],
   "source": [
    "def rotate_right(arr, n):\n",
    "    if not arr:\n",
    "        return arr  # Return the original list if it's empty\n",
    "    n %= len(arr)  # Ensure that n is within the length of the list\n",
    "    return arr[-n:] + arr[:-n]\n",
    "\n",
    "my_list = [1, 2, 3, 4, 5]\n",
    "n = 2  # Number of positions to rotate\n",
    "\n",
    "rotated_list = rotate_right(my_list, n)\n",
    "print(rotated_list)\n"
   ]
  },
  {
   "cell_type": "code",
   "execution_count": 67,
   "id": "f0fcd9b9-f948-4572-806a-c5d254db4483",
   "metadata": {},
   "outputs": [
    {
     "name": "stdout",
     "output_type": "stream",
     "text": [
      "[2, 3, 5, 7, 11, 13, 17, 19, 23, 29, 31, 37, 41, 43, 47]\n"
     ]
    }
   ],
   "source": [
    "def is_prime(num):\n",
    "    if num < 2:\n",
    "        return False\n",
    "    for i in range(2, int(num**0.5) + 1):\n",
    "        if num % i == 0:\n",
    "            return False\n",
    "    return True\n",
    "\n",
    "# Generate a list of prime numbers up to 50\n",
    "prime_numbers = [num for num in range(2, 51) if is_prime(num)]\n",
    "\n",
    "print(prime_numbers)\n"
   ]
  },
  {
   "cell_type": "code",
   "execution_count": 68,
   "id": "517e3278-125c-41df-a8ce-c2a23d648bca",
   "metadata": {},
   "outputs": [
    {
     "name": "stdout",
     "output_type": "stream",
     "text": [
      "[[1, 2, 3], [4, 5, 6], [7, 8, 9], [10]]\n"
     ]
    }
   ],
   "source": [
    "def split_list_into_chunks(lst, chunk_size):\n",
    "    for i in range(0, len(lst), chunk_size):\n",
    "        yield lst[i:i + chunk_size]\n",
    "\n",
    "my_list = [1, 2, 3, 4, 5, 6, 7, 8, 9, 10]\n",
    "chunk_size = 3\n",
    "\n",
    "chunked_list = list(split_list_into_chunks(my_list, chunk_size))\n",
    "\n",
    "print(chunked_list)\n"
   ]
  },
  {
   "cell_type": "code",
   "execution_count": 69,
   "id": "b093ba47-d0df-480a-a7a1-c750175e3311",
   "metadata": {},
   "outputs": [
    {
     "name": "stdout",
     "output_type": "stream",
     "text": [
      "The second largest number is: 8\n"
     ]
    }
   ],
   "source": [
    "def find_second_largest(arr):\n",
    "    if len(arr) < 2:\n",
    "        return \"List must contain at least two elements\"\n",
    "\n",
    "    largest = float('-inf')  # Initialize largest to negative infinity\n",
    "    second_largest = float('-inf')  # Initialize second_largest to negative infinity\n",
    "\n",
    "    for num in arr:\n",
    "        if num > largest:\n",
    "            second_largest = largest\n",
    "            largest = num\n",
    "        elif num > second_largest and num != largest:\n",
    "            second_largest = num\n",
    "\n",
    "    if second_largest == float('-inf'):\n",
    "        return \"No second largest element found\"\n",
    "    else:\n",
    "        return second_largest\n",
    "\n",
    "my_list = [1, 5, 2, 8, 3, 9]\n",
    "\n",
    "second_largest = find_second_largest(my_list)\n",
    "print(\"The second largest number is:\", second_largest)\n"
   ]
  },
  {
   "cell_type": "code",
   "execution_count": 70,
   "id": "fa131fcb-6a8d-41b5-bc86-6d2fb849f045",
   "metadata": {},
   "outputs": [
    {
     "name": "stdout",
     "output_type": "stream",
     "text": [
      "[1, 4, 9, 16, 25]\n"
     ]
    }
   ],
   "source": [
    "my_list = [1, 2, 3, 4, 5]\n",
    "\n",
    "squared_list = [x**2 for x in my_list]\n",
    "\n",
    "print(squared_list)\n"
   ]
  },
  {
   "cell_type": "code",
   "execution_count": 71,
   "id": "644322f9-2dff-4f64-93e1-369a75332070",
   "metadata": {},
   "outputs": [
    {
     "name": "stdout",
     "output_type": "stream",
     "text": [
      "{'apple': 0, 'banana': 1, 'cherry': 2, 'date': 3}\n"
     ]
    }
   ],
   "source": [
    "my_list = [\"apple\", \"banana\", \"cherry\", \"date\"]\n",
    "\n",
    "# Using dictionary comprehension\n",
    "index_dict = {value: index for index, value in enumerate(my_list)}\n",
    "\n",
    "print(index_dict)\n"
   ]
  },
  {
   "cell_type": "code",
   "execution_count": 72,
   "id": "3d48987e-151c-4458-ba7e-42ff27a00f96",
   "metadata": {},
   "outputs": [
    {
     "name": "stdout",
     "output_type": "stream",
     "text": [
      "[5, 4, 1, 3, 2]\n"
     ]
    }
   ],
   "source": [
    "import random\n",
    "\n",
    "my_list = [1, 2, 3, 4, 5]\n",
    "\n",
    "# Shuffle the list randomly\n",
    "random.shuffle(my_list)\n",
    "\n",
    "print(my_list)\n"
   ]
  },
  {
   "cell_type": "code",
   "execution_count": 73,
   "id": "94bd7ce2-c1a1-4a65-8c8d-db7a7076cdee",
   "metadata": {},
   "outputs": [
    {
     "name": "stdout",
     "output_type": "stream",
     "text": [
      "[1, 2, 6, 24, 120, 720, 5040, 40320, 362880, 3628800]\n"
     ]
    }
   ],
   "source": [
    "def factorial(num):\n",
    "    if num == 0:\n",
    "        return 1\n",
    "    else:\n",
    "        return num * factorial(num - 1)\n",
    "\n",
    "# Generate a list of the first 10 factorial numbers\n",
    "factorial_list = [factorial(n) for n in range(1, 11)]\n",
    "\n",
    "print(factorial_list)\n"
   ]
  },
  {
   "cell_type": "code",
   "execution_count": 74,
   "id": "8d9bdd4b-7e6c-45ea-b45b-b78fbf699be5",
   "metadata": {},
   "outputs": [
    {
     "name": "stdout",
     "output_type": "stream",
     "text": [
      "The lists have at least one common element.\n"
     ]
    }
   ],
   "source": [
    "list1 = [1, 2, 3, 4, 5]\n",
    "list2 = [5, 6, 7, 8, 9]\n",
    "\n",
    "# Check if there's at least one common element using set intersection\n",
    "common_elements = set(list1) & set(list2)\n",
    "\n",
    "if common_elements:\n",
    "    print(\"The lists have at least one common element.\")\n",
    "else:\n",
    "    print(\"The lists have no common elements.\")\n"
   ]
  },
  {
   "cell_type": "code",
   "execution_count": 75,
   "id": "d9d444a4-6523-46c8-8ca4-010a6e12990b",
   "metadata": {},
   "outputs": [
    {
     "name": "stdout",
     "output_type": "stream",
     "text": [
      "[]\n"
     ]
    }
   ],
   "source": [
    "my_list = [1, 2, 3, 4, 5]\n",
    "\n",
    "my_list.clear()\n",
    "\n",
    "print(my_list)  # This will print an empty list: []\n"
   ]
  },
  {
   "cell_type": "code",
   "execution_count": 76,
   "id": "692f157d-4361-458b-9738-a9200c79d3cd",
   "metadata": {},
   "outputs": [
    {
     "name": "stdout",
     "output_type": "stream",
     "text": [
      "[1, 0, 3, 0, 5]\n"
     ]
    }
   ],
   "source": [
    "my_list = [1, -2, 3, -4, 5]\n",
    "\n",
    "# Replace negative numbers with 0 using a list comprehension\n",
    "new_list = [x if x >= 0 else 0 for x in my_list]\n",
    "\n",
    "print(new_list)\n"
   ]
  },
  {
   "cell_type": "code",
   "execution_count": 77,
   "id": "86977646-eb47-4be6-873c-fc8535ac4a1d",
   "metadata": {},
   "outputs": [
    {
     "name": "stdout",
     "output_type": "stream",
     "text": [
      "['This', 'is', 'a', 'sample', 'sentence.']\n"
     ]
    }
   ],
   "source": [
    "text = \"This is a sample sentence.\"\n",
    "\n",
    "# Split the string into a list of words\n",
    "word_list = text.split()\n",
    "\n",
    "print(word_list)\n"
   ]
  },
  {
   "cell_type": "code",
   "execution_count": 78,
   "id": "79693c82-8add-436a-8691-6217f5d083fb",
   "metadata": {},
   "outputs": [
    {
     "name": "stdout",
     "output_type": "stream",
     "text": [
      "This is a list of words\n"
     ]
    }
   ],
   "source": [
    "word_list = ['This', 'is', 'a', 'list', 'of', 'words']\n",
    "\n",
    "# Convert the list of words into a string\n",
    "text = ' '.join(word_list)\n",
    "\n",
    "print(text)\n"
   ]
  },
  {
   "cell_type": "code",
   "execution_count": 79,
   "id": "d26a14b3-dd82-41dd-8066-93e83ede7dde",
   "metadata": {},
   "outputs": [
    {
     "name": "stdout",
     "output_type": "stream",
     "text": [
      "[1, 2, 4, 8, 16]\n"
     ]
    }
   ],
   "source": [
    "n = 5  # Replace with the desired number of powers of 2\n",
    "\n",
    "# Create a list of the first n powers of 2\n",
    "powers_of_2 = [2 ** i for i in range(n)]\n",
    "\n",
    "print(powers_of_2)\n"
   ]
  },
  {
   "cell_type": "code",
   "execution_count": 80,
   "id": "32485564-ea57-4a32-83cf-78861ead7e45",
   "metadata": {},
   "outputs": [
    {
     "name": "stdout",
     "output_type": "stream",
     "text": [
      "The longest string is: banana\n"
     ]
    }
   ],
   "source": [
    "string_list = [\"apple\", \"banana\", \"cherry\", \"date\", \"fig\"]\n",
    "\n",
    "# Initialize variables to store the longest string and its length\n",
    "longest_string = \"\"\n",
    "max_length = 0\n",
    "\n",
    "# Iterate through the list to find the longest string\n",
    "for string in string_list:\n",
    "    if len(string) > max_length:\n",
    "        longest_string = string\n",
    "        max_length = len(string)\n",
    "\n",
    "print(\"The longest string is:\", longest_string)\n"
   ]
  },
  {
   "cell_type": "code",
   "execution_count": 81,
   "id": "bb62d9f4-f9da-4512-8dcc-0789cd1fe19d",
   "metadata": {},
   "outputs": [
    {
     "name": "stdout",
     "output_type": "stream",
     "text": [
      "The shortest string is: fig\n"
     ]
    }
   ],
   "source": [
    "string_list = [\"apple\", \"banana\", \"cherry\", \"date\", \"fig\"]\n",
    "\n",
    "# Initialize variables to store the shortest string and its length\n",
    "shortest_string = \"\"\n",
    "min_length = float('inf')\n",
    "\n",
    "# Iterate through the list to find the shortest string\n",
    "for string in string_list:\n",
    "    if len(string) < min_length:\n",
    "        shortest_string = string\n",
    "        min_length = len(string)\n",
    "\n",
    "print(\"The shortest string is:\", shortest_string)\n"
   ]
  },
  {
   "cell_type": "code",
   "execution_count": 82,
   "id": "3456ae38-e812-4be7-8204-018a6c210cf3",
   "metadata": {},
   "outputs": [
    {
     "name": "stdout",
     "output_type": "stream",
     "text": [
      "[1, 3, 6, 10, 15]\n"
     ]
    }
   ],
   "source": [
    "n = 5  # Replace with the desired number of triangular numbers\n",
    "\n",
    "# Create a list of the first n triangular numbers\n",
    "triangular_numbers = [n * (n + 1) // 2 for n in range(1, n + 1)]\n",
    "\n",
    "print(triangular_numbers)\n"
   ]
  },
  {
   "cell_type": "code",
   "execution_count": 83,
   "id": "9f7e274a-525e-4960-98bc-bb238270fce8",
   "metadata": {},
   "outputs": [
    {
     "name": "stdout",
     "output_type": "stream",
     "text": [
      "True\n",
      "False\n"
     ]
    }
   ],
   "source": [
    "def is_subsequence(subsequence, sequence):\n",
    "    sub_len = len(subsequence)\n",
    "    seq_len = len(sequence)\n",
    "\n",
    "    if sub_len > seq_len:\n",
    "        return False\n",
    "\n",
    "    sub_index = 0\n",
    "    for element in sequence:\n",
    "        if sub_index < sub_len and element == subsequence[sub_index]:\n",
    "            sub_index += 1\n",
    "\n",
    "    return sub_index == sub_len\n",
    "\n",
    "# Example usage:\n",
    "sequence = [1, 2, 3, 4, 5, 6, 7]\n",
    "subsequence1 = [2, 4, 6]\n",
    "subsequence2 = [3, 1, 7]\n",
    "\n",
    "print(is_subsequence(subsequence1, sequence))  # True\n",
    "print(is_subsequence(subsequence2, sequence))  # False\n"
   ]
  },
  {
   "cell_type": "code",
   "execution_count": 84,
   "id": "79e192f4-a741-401b-ac37-8986c2696aa3",
   "metadata": {},
   "outputs": [
    {
     "name": "stdout",
     "output_type": "stream",
     "text": [
      "[1, 4, 3, 2, 5]\n"
     ]
    }
   ],
   "source": [
    "my_list = [1, 2, 3, 4, 5]\n",
    "\n",
    "# Define the indices of the elements to be swapped\n",
    "index1 = 1  # Index of the first element to be swapped\n",
    "index2 = 3  # Index of the second element to be swapped\n",
    "\n",
    "# Check if the indices are valid\n",
    "if 0 <= index1 < len(my_list) and 0 <= index2 < len(my_list):\n",
    "    # Swap the elements at the specified indices\n",
    "    temp = my_list[index1]\n",
    "    my_list[index1] = my_list[index2]\n",
    "    my_list[index2] = temp\n",
    "\n",
    "print(my_list)\n"
   ]
  },
  {
   "cell_type": "code",
   "execution_count": 85,
   "id": "3cb61ba5-02d3-4675-8bf1-84564aae3322",
   "metadata": {},
   "outputs": [
    {
     "name": "stdout",
     "output_type": "stream",
     "text": [
      "(1, 2, 3, 4, 5)\n"
     ]
    }
   ],
   "source": [
    "my_tuple = (1, 2, 3, 4, 5)\n",
    "\n",
    "print(my_tuple)\n"
   ]
  },
  {
   "cell_type": "code",
   "execution_count": 86,
   "id": "204b486c-5793-4270-9576-2b0182ce601f",
   "metadata": {},
   "outputs": [
    {
     "name": "stdout",
     "output_type": "stream",
     "text": [
      "The third element is: 3\n"
     ]
    }
   ],
   "source": [
    "my_tuple = (1, 2, 3, 4, 5)\n",
    "\n",
    "# Access the third element (index 2)\n",
    "third_element = my_tuple[2]\n",
    "\n",
    "print(\"The third element is:\", third_element)\n"
   ]
  },
  {
   "cell_type": "code",
   "execution_count": 87,
   "id": "cd47b287-0a5e-4bc8-8f5b-99f42c1d7cb1",
   "metadata": {},
   "outputs": [
    {
     "name": "stdout",
     "output_type": "stream",
     "text": [
      "The length of the tuple is: 5\n"
     ]
    }
   ],
   "source": [
    "my_tuple = (1, 2, 3, 4, 5)\n",
    "\n",
    "# Initialize a counter\n",
    "length = 0\n",
    "\n",
    "# Iterate through the tuple to count the elements\n",
    "for _ in my_tuple:\n",
    "    length += 1\n",
    "\n",
    "print(\"The length of the tuple is:\", length)\n"
   ]
  },
  {
   "cell_type": "code",
   "execution_count": 88,
   "id": "0ad9ef64-6c9f-4f75-aa37-a3451d1dd035",
   "metadata": {},
   "outputs": [
    {
     "name": "stdout",
     "output_type": "stream",
     "text": [
      "The element 2 appears 3 times in the tuple.\n"
     ]
    }
   ],
   "source": [
    "my_tuple = (1, 2, 2, 3, 2, 4, 5)\n",
    "\n",
    "# Count the occurrences of an element (e.g., 2)\n",
    "count_of_2 = my_tuple.count(2)\n",
    "\n",
    "print(\"The element 2 appears\", count_of_2, \"times in the tuple.\")\n"
   ]
  },
  {
   "cell_type": "code",
   "execution_count": 89,
   "id": "fee84be5-e498-434b-9601-1fe4e8a54688",
   "metadata": {},
   "outputs": [
    {
     "name": "stdout",
     "output_type": "stream",
     "text": [
      "The first occurrence of 2 is at index: 1\n"
     ]
    }
   ],
   "source": [
    "my_tuple = (1, 2, 3, 2, 4, 5)\n",
    "\n",
    "# Find the index of the first occurrence of an element (e.g., 2)\n",
    "index_of_2 = my_tuple.index(2)\n",
    "\n",
    "print(\"The first occurrence of 2 is at index:\", index_of_2)\n"
   ]
  },
  {
   "cell_type": "code",
   "execution_count": 90,
   "id": "a7e9c60a-3a45-43aa-bc7d-2199d538e03c",
   "metadata": {},
   "outputs": [
    {
     "name": "stdout",
     "output_type": "stream",
     "text": [
      "3 exists in the tuple.\n"
     ]
    }
   ],
   "source": [
    "my_tuple = (1, 2, 3, 4, 5)\n",
    "element_to_check = 3\n",
    "\n",
    "# Check if an element exists in the tuple\n",
    "if element_to_check in my_tuple:\n",
    "    print(f\"{element_to_check} exists in the tuple.\")\n",
    "else:\n",
    "    print(f\"{element_to_check} does not exist in the tuple.\")\n"
   ]
  },
  {
   "cell_type": "code",
   "execution_count": 91,
   "id": "8e571831-329c-4852-ab22-34d614c2035e",
   "metadata": {},
   "outputs": [
    {
     "name": "stdout",
     "output_type": "stream",
     "text": [
      "[1, 2, 3, 4, 5]\n"
     ]
    }
   ],
   "source": [
    "my_tuple = (1, 2, 3, 4, 5)\n",
    "\n",
    "# Convert the tuple to a list using a list comprehension\n",
    "my_list = [x for x in my_tuple]\n",
    "\n",
    "print(my_list)\n"
   ]
  },
  {
   "cell_type": "code",
   "execution_count": 92,
   "id": "1f264c05-5e1f-4e3c-9196-9df4e3b3fc48",
   "metadata": {},
   "outputs": [
    {
     "name": "stdout",
     "output_type": "stream",
     "text": [
      "(1, 2, 3, 4, 5)\n"
     ]
    }
   ],
   "source": [
    "my_list = [1, 2, 3, 4, 5]\n",
    "\n",
    "# Convert the list to a tuple using the tuple() constructor\n",
    "my_tuple = tuple(my_list)\n",
    "\n",
    "print(my_tuple)\n"
   ]
  },
  {
   "cell_type": "code",
   "execution_count": 93,
   "id": "ae18df6d-c426-4eaf-a0cf-b16fde5dfa74",
   "metadata": {},
   "outputs": [
    {
     "name": "stdout",
     "output_type": "stream",
     "text": [
      "a = 1\n",
      "b = 2\n",
      "c = 3\n"
     ]
    }
   ],
   "source": [
    "my_tuple = (1, 2, 3)\n",
    "\n",
    "# Unpack the elements of the tuple into variables\n",
    "a, b, c = my_tuple\n",
    "\n",
    "print(\"a =\", a)\n",
    "print(\"b =\", b)\n",
    "print(\"c =\", c)\n"
   ]
  },
  {
   "cell_type": "code",
   "execution_count": 94,
   "id": "0f69cb70-f3d0-414c-a456-69111330c4d8",
   "metadata": {},
   "outputs": [
    {
     "name": "stdout",
     "output_type": "stream",
     "text": [
      "(2, 4, 6, 8, 10)\n"
     ]
    }
   ],
   "source": [
    "# Create a tuple of even numbers from 1 to 10\n",
    "even_numbers = tuple(x for x in range(2, 11, 2))\n",
    "\n",
    "print(even_numbers)\n"
   ]
  },
  {
   "cell_type": "code",
   "execution_count": 95,
   "id": "91432c03-8e47-44bc-949b-c5623f0d578b",
   "metadata": {},
   "outputs": [
    {
     "name": "stdout",
     "output_type": "stream",
     "text": [
      "(1, 3, 5, 7, 9)\n"
     ]
    }
   ],
   "source": [
    "# Create a tuple of odd numbers from 1 to 10\n",
    "odd_numbers = tuple(x for x in range(1, 11, 2))\n",
    "\n",
    "print(odd_numbers)\n"
   ]
  },
  {
   "cell_type": "code",
   "execution_count": 96,
   "id": "feb60e90-6013-4fde-9726-707cff12fc26",
   "metadata": {},
   "outputs": [
    {
     "name": "stdout",
     "output_type": "stream",
     "text": [
      "(1, 2, 3, 4, 5, 6)\n"
     ]
    }
   ],
   "source": [
    "tuple1 = (1, 2, 3)\n",
    "tuple2 = (4, 5, 6)\n",
    "\n",
    "# Concatenate two tuples\n",
    "concatenated_tuple = tuple1 + tuple2\n",
    "\n",
    "print(concatenated_tuple)\n"
   ]
  },
  {
   "cell_type": "code",
   "execution_count": 97,
   "id": "bb489483-97e9-4b0b-a526-aa4ced7d7ab5",
   "metadata": {},
   "outputs": [
    {
     "name": "stdout",
     "output_type": "stream",
     "text": [
      "(1, 2, 3, 1, 2, 3, 1, 2, 3)\n"
     ]
    }
   ],
   "source": [
    "my_tuple = (1, 2, 3)\n",
    "\n",
    "# Repeat the tuple three times\n",
    "repeated_tuple = my_tuple * 3\n",
    "\n",
    "print(repeated_tuple)\n"
   ]
  },
  {
   "cell_type": "code",
   "execution_count": 98,
   "id": "64e488bc-0726-4ec2-adeb-f281d1ce80d4",
   "metadata": {},
   "outputs": [
    {
     "name": "stdout",
     "output_type": "stream",
     "text": [
      "The tuple is empty.\n"
     ]
    }
   ],
   "source": [
    "my_tuple = ()\n",
    "\n",
    "# Check if the tuple is empty\n",
    "if not my_tuple:\n",
    "    print(\"The tuple is empty.\")\n",
    "else:\n",
    "    print(\"The tuple is not empty.\")\n"
   ]
  },
  {
   "cell_type": "code",
   "execution_count": 99,
   "id": "b7e368f7-91d8-404a-8de7-70c97ead3069",
   "metadata": {},
   "outputs": [
    {
     "name": "stdout",
     "output_type": "stream",
     "text": [
      "((1, 2), (3, 4), (5, 6))\n"
     ]
    }
   ],
   "source": [
    "nested_tuple = ((1, 2), (3, 4), (5, 6))\n",
    "\n",
    "print(nested_tuple)\n"
   ]
  },
  {
   "cell_type": "code",
   "execution_count": 100,
   "id": "83991080-5f62-4624-81b9-79407dff90d2",
   "metadata": {},
   "outputs": [
    {
     "name": "stdout",
     "output_type": "stream",
     "text": [
      "The first element of the nested tuple is: 1\n"
     ]
    }
   ],
   "source": [
    "nested_tuple = ((1, 2), (3, 4), (5, 6))\n",
    "\n",
    "# Access the first element of the first inner tuple\n",
    "first_element = nested_tuple[0][0]\n",
    "\n",
    "print(\"The first element of the nested tuple is:\", first_element)\n"
   ]
  },
  {
   "cell_type": "code",
   "execution_count": 101,
   "id": "3fa3de51-49ef-45d6-b89b-189a343ca0e3",
   "metadata": {},
   "outputs": [
    {
     "name": "stdout",
     "output_type": "stream",
     "text": [
      "(42,)\n"
     ]
    }
   ],
   "source": [
    "single_element_tuple = (42,)  # Note the trailing comma\n",
    "\n",
    "print(single_element_tuple)\n"
   ]
  },
  {
   "cell_type": "code",
   "execution_count": 102,
   "id": "25aefdc7-45c7-4a88-b1c4-cb42206dd8ce",
   "metadata": {},
   "outputs": [
    {
     "name": "stdout",
     "output_type": "stream",
     "text": [
      "tuple1 is not equal to tuple2\n",
      "tuple1 is not equal to tuple2\n",
      "tuple1 is less than tuple2\n"
     ]
    }
   ],
   "source": [
    "tuple1 = (1, 2, 3)\n",
    "tuple2 = (1, 2, 4)\n",
    "\n",
    "# Compare two tuples for equality\n",
    "if tuple1 == tuple2:\n",
    "    print(\"tuple1 is equal to tuple2\")\n",
    "else:\n",
    "    print(\"tuple1 is not equal to tuple2\")\n",
    "\n",
    "# Compare two tuples for inequality\n",
    "if tuple1 != tuple2:\n",
    "    print(\"tuple1 is not equal to tuple2\")\n",
    "else:\n",
    "    print(\"tuple1 is equal to tuple2\")\n",
    "\n",
    "# Compare two tuples element-wise\n",
    "if tuple1 < tuple2:\n",
    "    print(\"tuple1 is less than tuple2\")\n",
    "elif tuple1 > tuple2:\n",
    "    print(\"tuple1 is greater than tuple2\")\n",
    "else:\n",
    "    print(\"tuple1 and tuple2 are equal element-wise\")\n"
   ]
  },
  {
   "cell_type": "code",
   "execution_count": 107,
   "id": "3d7a487d-397e-4558-a372-8e36a897e899",
   "metadata": {},
   "outputs": [],
   "source": [
    "my_tuple = (1, 2, 3, 4, 5)\n",
    "\n",
    "# Delete the entire tuple\n",
    "del my_tuple\n",
    "\n"
   ]
  },
  {
   "cell_type": "code",
   "execution_count": 108,
   "id": "3d11452f-1922-42b8-9bc4-b4613b1c93ef",
   "metadata": {},
   "outputs": [
    {
     "name": "stdout",
     "output_type": "stream",
     "text": [
      "(3, 4, 5, 6)\n"
     ]
    }
   ],
   "source": [
    "my_tuple = (1, 2, 3, 4, 5, 6, 7, 8, 9, 10)\n",
    "\n",
    "# Slice the tuple to get a portion (e.g., elements at index 2 to 5)\n",
    "sliced_tuple = my_tuple[2:6]\n",
    "\n",
    "print(sliced_tuple)\n"
   ]
  },
  {
   "cell_type": "code",
   "execution_count": 109,
   "id": "99addc03-f89a-4154-9cf6-42618ea5cd92",
   "metadata": {},
   "outputs": [
    {
     "name": "stdout",
     "output_type": "stream",
     "text": [
      "The maximum value in the tuple is: 9\n"
     ]
    }
   ],
   "source": [
    "my_tuple = (3, 6, 1, 9, 5, 2, 8, 4, 7)\n",
    "\n",
    "# Find the maximum value in the tuple\n",
    "max_value = max(my_tuple)\n",
    "\n",
    "print(\"The maximum value in the tuple is:\", max_value)\n"
   ]
  },
  {
   "cell_type": "code",
   "execution_count": 110,
   "id": "84848a51-4fae-491a-a986-42365745a657",
   "metadata": {},
   "outputs": [
    {
     "name": "stdout",
     "output_type": "stream",
     "text": [
      "The minimum value in the tuple is: 1\n"
     ]
    }
   ],
   "source": [
    "my_tuple = (3, 6, 1, 9, 5, 2, 8, 4, 7)\n",
    "\n",
    "# Find the minimum value in the tuple\n",
    "min_value = min(my_tuple)\n",
    "\n",
    "print(\"The minimum value in the tuple is:\", min_value)\n"
   ]
  },
  {
   "cell_type": "code",
   "execution_count": 112,
   "id": "52e21d2f-41f2-4edc-8258-a662afdcdb25",
   "metadata": {},
   "outputs": [
    {
     "name": "stdout",
     "output_type": "stream",
     "text": [
      "('h', 'e', 'l', 'l', 'o')\n"
     ]
    }
   ],
   "source": [
    "my_string = \"hello\"\n",
    "tuple_of_characters = tuple(my_string)\n",
    "\n",
    "print(tuple_of_characters)\n"
   ]
  },
  {
   "cell_type": "code",
   "execution_count": 113,
   "id": "4d177718-e158-4dd8-8d7d-ff91b7d1e4c9",
   "metadata": {},
   "outputs": [
    {
     "name": "stdout",
     "output_type": "stream",
     "text": [
      "hello\n"
     ]
    }
   ],
   "source": [
    "tuple_of_characters = ('h', 'e', 'l', 'l', 'o')\n",
    "\n",
    "# Convert the tuple of characters to a string\n",
    "string_from_tuple = ''.join(tuple_of_characters)\n",
    "\n",
    "print(string_from_tuple)\n"
   ]
  },
  {
   "cell_type": "code",
   "execution_count": 114,
   "id": "79e5df8c-823f-4d49-ab06-4ac2eaba23f5",
   "metadata": {},
   "outputs": [
    {
     "name": "stdout",
     "output_type": "stream",
     "text": [
      "(1, 'Hello', 3.14, True)\n"
     ]
    }
   ],
   "source": [
    "mixed_tuple = (1, \"Hello\", 3.14, True)\n",
    "\n",
    "print(mixed_tuple)\n"
   ]
  },
  {
   "cell_type": "code",
   "execution_count": 115,
   "id": "e2329a4c-26fe-4255-b9d2-fff83e4fa869",
   "metadata": {},
   "outputs": [
    {
     "name": "stdout",
     "output_type": "stream",
     "text": [
      "The two tuples are identical.\n"
     ]
    }
   ],
   "source": [
    "tuple1 = (1, 2, 3)\n",
    "tuple2 = (1, 2, 3)\n",
    "\n",
    "if tuple1 == tuple2:\n",
    "    print(\"The two tuples are identical.\")\n",
    "else:\n",
    "    print(\"The two tuples are not identical.\")\n"
   ]
  },
  {
   "cell_type": "code",
   "execution_count": 116,
   "id": "79549652-2d66-4e59-9313-bd3867ca6a29",
   "metadata": {},
   "outputs": [
    {
     "name": "stdout",
     "output_type": "stream",
     "text": [
      "(1, 2, 3, 5, 8)\n"
     ]
    }
   ],
   "source": [
    "my_tuple = (5, 2, 8, 1, 3)\n",
    "\n",
    "# Convert the tuple to a list, sort it, and then convert it back to a tuple\n",
    "sorted_tuple = tuple(sorted(list(my_tuple)))\n",
    "\n",
    "print(sorted_tuple)\n"
   ]
  },
  {
   "cell_type": "code",
   "execution_count": 117,
   "id": "184eeb57-1034-4684-9ae2-f9b313ef9414",
   "metadata": {},
   "outputs": [
    {
     "name": "stdout",
     "output_type": "stream",
     "text": [
      "('1', '2', '3', '4', '5')\n"
     ]
    }
   ],
   "source": [
    "tuple_of_integers = (1, 2, 3, 4, 5)\n",
    "\n",
    "# Convert the tuple of integers to a tuple of strings\n",
    "tuple_of_strings = tuple(str(x) for x in tuple_of_integers)\n",
    "\n",
    "print(tuple_of_strings)\n"
   ]
  },
  {
   "cell_type": "code",
   "execution_count": 118,
   "id": "5677887b-64b2-4252-b941-f26567597bb9",
   "metadata": {},
   "outputs": [
    {
     "name": "stdout",
     "output_type": "stream",
     "text": [
      "(1, 2, 3, 4, 5)\n"
     ]
    }
   ],
   "source": [
    "tuple_of_strings = ('1', '2', '3', '4', '5')\n",
    "\n",
    "# Convert the tuple of strings to a tuple of integers\n",
    "tuple_of_integers = tuple(int(x) for x in tuple_of_strings)\n",
    "\n",
    "print(tuple_of_integers)\n"
   ]
  },
  {
   "cell_type": "code",
   "execution_count": 120,
   "id": "9c008332-79e3-48db-98b8-82bd76f73ba8",
   "metadata": {},
   "outputs": [
    {
     "name": "stdout",
     "output_type": "stream",
     "text": [
      "(1, 2, 3, 4, 5, 6)\n"
     ]
    }
   ],
   "source": [
    "tuple1 = (1, 2, 3)\n",
    "tuple2 = (4, 5, 6)\n",
    "\n",
    "# Merge the two tuples\n",
    "merged_tuple = tuple1 + tuple2\n",
    "\n",
    "print(merged_tuple)\n"
   ]
  },
  {
   "cell_type": "code",
   "execution_count": 121,
   "id": "b48b1814-a997-4499-b16a-4b6b3f7f64ba",
   "metadata": {},
   "outputs": [
    {
     "name": "stdout",
     "output_type": "stream",
     "text": [
      "(1, 2, 3, 4, 5, 6, 7, 8)\n"
     ]
    }
   ],
   "source": [
    "def flatten_tuple(nested_tuple):\n",
    "    flattened_list = []\n",
    "    \n",
    "    def recursive_flatten(sub_tuple):\n",
    "        for item in sub_tuple:\n",
    "            if isinstance(item, tuple):\n",
    "                recursive_flatten(item)\n",
    "            else:\n",
    "                flattened_list.append(item)\n",
    "    \n",
    "    recursive_flatten(nested_tuple)\n",
    "    \n",
    "    return tuple(flattened_list)\n",
    "\n",
    "# Example nested tuple\n",
    "nested_tuple = ((1, 2), (3, (4, 5)), 6, (7, 8))\n",
    "\n",
    "# Flatten the nested tuple\n",
    "flattened_tuple = flatten_tuple(nested_tuple)\n",
    "\n",
    "print(flattened_tuple)\n"
   ]
  },
  {
   "cell_type": "code",
   "execution_count": 122,
   "id": "75387d90-97fc-4f27-8d27-8b77a6c55325",
   "metadata": {},
   "outputs": [
    {
     "name": "stdout",
     "output_type": "stream",
     "text": [
      "(2, 3, 5, 7, 11)\n"
     ]
    }
   ],
   "source": [
    "prime_numbers = (2, 3, 5, 7, 11)\n",
    "\n",
    "print(prime_numbers)\n"
   ]
  },
  {
   "cell_type": "code",
   "execution_count": 123,
   "id": "6e3681d5-7b58-470b-bdfe-5f15ec9e2219",
   "metadata": {},
   "outputs": [
    {
     "name": "stdout",
     "output_type": "stream",
     "text": [
      "Is tuple1 a palindrome? True\n",
      "Is tuple2 a palindrome? False\n"
     ]
    }
   ],
   "source": [
    "def is_palindrome(input_tuple):\n",
    "    # Reverse the tuple\n",
    "    reversed_tuple = tuple(reversed(input_tuple))\n",
    "    \n",
    "    # Check if the original and reversed tuples are equal\n",
    "    return input_tuple == reversed_tuple\n",
    "\n",
    "# Test cases\n",
    "tuple1 = (1, 2, 3, 2, 1)\n",
    "tuple2 = (1, 2, 3, 4, 5)\n",
    "\n",
    "# Check if the tuples are palindromes\n",
    "result1 = is_palindrome(tuple1)\n",
    "result2 = is_palindrome(tuple2)\n",
    "\n",
    "print(f\"Is tuple1 a palindrome? {result1}\")\n",
    "print(f\"Is tuple2 a palindrome? {result2}\")\n"
   ]
  },
  {
   "cell_type": "code",
   "execution_count": 124,
   "id": "e193d349-91d4-4187-8007-ee461fafd4a2",
   "metadata": {},
   "outputs": [
    {
     "name": "stdout",
     "output_type": "stream",
     "text": [
      "(1, 4, 9, 16, 25)\n"
     ]
    }
   ],
   "source": [
    "# Using a tuple comprehension to create the tuple of squares\n",
    "squares_tuple = tuple(x**2 for x in range(1, 6))\n",
    "\n",
    "print(squares_tuple)\n"
   ]
  },
  {
   "cell_type": "code",
   "execution_count": 125,
   "id": "b29b8f35-f45e-473f-88ee-46b0545634f4",
   "metadata": {},
   "outputs": [
    {
     "name": "stdout",
     "output_type": "stream",
     "text": [
      "(1, 3, 5, 7, 9)\n"
     ]
    }
   ],
   "source": [
    "# Original tuple with both even and odd numbers\n",
    "original_tuple = (1, 2, 3, 4, 5, 6, 7, 8, 9)\n",
    "\n",
    "# Create a new tuple containing only the odd numbers\n",
    "odd_numbers_tuple = tuple(x for x in original_tuple if x % 2 != 0)\n",
    "\n",
    "print(odd_numbers_tuple)\n"
   ]
  },
  {
   "cell_type": "code",
   "execution_count": 126,
   "id": "9ffb8da9-98d7-4a67-ab71-2b8b4f5f0131",
   "metadata": {},
   "outputs": [
    {
     "name": "stdout",
     "output_type": "stream",
     "text": [
      "(2, 4, 6, 8, 10)\n"
     ]
    }
   ],
   "source": [
    "# Original tuple\n",
    "original_tuple = (1, 2, 3, 4, 5)\n",
    "\n",
    "# Create a new tuple with elements multiplied by 2\n",
    "doubled_tuple = tuple(x * 2 for x in original_tuple)\n",
    "\n",
    "print(doubled_tuple)\n"
   ]
  },
  {
   "cell_type": "code",
   "execution_count": 127,
   "id": "113aed62-02af-4577-a6ae-c43140e12bc5",
   "metadata": {},
   "outputs": [
    {
     "name": "stdout",
     "output_type": "stream",
     "text": [
      "(92, 77, 70, 26, 94)\n"
     ]
    }
   ],
   "source": [
    "import random\n",
    "\n",
    "# Generate a tuple of 5 random integers between 1 and 100\n",
    "random_tuple = tuple(random.randint(1, 100) for _ in range(5))\n",
    "\n",
    "print(random_tuple)\n"
   ]
  },
  {
   "cell_type": "code",
   "execution_count": 128,
   "id": "7e5dd868-bb48-4c37-8d4d-7e91912999dd",
   "metadata": {},
   "outputs": [
    {
     "name": "stdout",
     "output_type": "stream",
     "text": [
      "Is tuple1 sorted? True\n",
      "Is tuple2 sorted? False\n",
      "Is tuple3 sorted? False\n"
     ]
    }
   ],
   "source": [
    "def is_sorted(input_tuple):\n",
    "    # Check if all elements are in non-decreasing order\n",
    "    return all(input_tuple[i] <= input_tuple[i + 1] for i in range(len(input_tuple) - 1))\n",
    "\n",
    "# Test cases\n",
    "tuple1 = (1, 2, 3, 4, 5)\n",
    "tuple2 = (5, 4, 3, 2, 1)\n",
    "tuple3 = (1, 3, 2, 4, 5)\n",
    "\n",
    "# Check if the tuples are sorted\n",
    "result1 = is_sorted(tuple1)\n",
    "result2 = is_sorted(tuple2)\n",
    "result3 = is_sorted(tuple3)\n",
    "\n",
    "print(f\"Is tuple1 sorted? {result1}\")\n",
    "print(f\"Is tuple2 sorted? {result2}\")\n",
    "print(f\"Is tuple3 sorted? {result3}\")\n"
   ]
  },
  {
   "cell_type": "code",
   "execution_count": 129,
   "id": "e4e77598-0520-43fc-9c7e-e1ad50c57dae",
   "metadata": {},
   "outputs": [
    {
     "name": "stdout",
     "output_type": "stream",
     "text": [
      "(3, 4, 5, 1, 2)\n"
     ]
    }
   ],
   "source": [
    "def rotate_tuple_left(input_tuple, n):\n",
    "    # Ensure n is within the range of the tuple length\n",
    "    n %= len(input_tuple)\n",
    "    \n",
    "    # Rotate the tuple to the left by n positions\n",
    "    rotated_tuple = input_tuple[n:] + input_tuple[:n]\n",
    "    \n",
    "    return rotated_tuple\n",
    "\n",
    "# Original tuple\n",
    "original_tuple = (1, 2, 3, 4, 5)\n",
    "\n",
    "# Number of positions to rotate to the left\n",
    "n = 2\n",
    "\n",
    "# Rotate the tuple to the left by n positions\n",
    "rotated_tuple = rotate_tuple_left(original_tuple, n)\n",
    "\n",
    "print(rotated_tuple)\n"
   ]
  },
  {
   "cell_type": "code",
   "execution_count": 130,
   "id": "3f01b41b-ddfc-4caf-aa19-2d7b8475c770",
   "metadata": {},
   "outputs": [
    {
     "name": "stdout",
     "output_type": "stream",
     "text": [
      "(4, 5, 1, 2, 3)\n"
     ]
    }
   ],
   "source": [
    "def rotate_tuple_right(input_tuple, n):\n",
    "    # Ensure n is within the range of the tuple length\n",
    "    n %= len(input_tuple)\n",
    "    \n",
    "    # Rotate the tuple to the right by n positions\n",
    "    rotated_tuple = input_tuple[-n:] + input_tuple[:-n]\n",
    "    \n",
    "    return rotated_tuple\n",
    "\n",
    "# Original tuple\n",
    "original_tuple = (1, 2, 3, 4, 5)\n",
    "\n",
    "# Number of positions to rotate to the right\n",
    "n = 2\n",
    "\n",
    "# Rotate the tuple to the right by n positions\n",
    "rotated_tuple = rotate_tuple_right(original_tuple, n)\n",
    "\n",
    "print(rotated_tuple)\n"
   ]
  },
  {
   "cell_type": "code",
   "execution_count": 131,
   "id": "f4193387-4fde-4261-8a86-f39a6bacd86c",
   "metadata": {},
   "outputs": [
    {
     "name": "stdout",
     "output_type": "stream",
     "text": [
      "(0, 1, 1, 2, 3)\n"
     ]
    }
   ],
   "source": [
    "# Function to generate the first n Fibonacci numbers\n",
    "def generate_fibonacci(n):\n",
    "    fibonacci_sequence = [0, 1]\n",
    "    while len(fibonacci_sequence) < n:\n",
    "        next_number = fibonacci_sequence[-1] + fibonacci_sequence[-2]\n",
    "        fibonacci_sequence.append(next_number)\n",
    "    return tuple(fibonacci_sequence)\n",
    "\n",
    "# Generate a tuple of the first 5 Fibonacci numbers\n",
    "first_5_fibonacci = generate_fibonacci(5)\n",
    "\n",
    "print(first_5_fibonacci)\n"
   ]
  },
  {
   "cell_type": "code",
   "execution_count": 1,
   "id": "9fb2e6c3-f361-4fea-b20c-9ada0f7ea35b",
   "metadata": {},
   "outputs": [
    {
     "name": "stdin",
     "output_type": "stream",
     "text": [
      "Enter comma-separated values to create a tuple:  12345\n"
     ]
    },
    {
     "name": "stdout",
     "output_type": "stream",
     "text": [
      "The created tuple is: ('12345',)\n"
     ]
    }
   ],
   "source": [
    "# Take user input as a comma-separated string\n",
    "input_str = input(\"Enter comma-separated values to create a tuple: \")\n",
    "\n",
    "# Split the input string by commas and remove leading/trailing whitespace\n",
    "input_list = [x.strip() for x in input_str.split(',')]\n",
    "\n",
    "# Convert the list into a tuple\n",
    "input_tuple = tuple(input_list)\n",
    "\n",
    "# Print the tuple\n",
    "print(\"The created tuple is:\", input_tuple)\n"
   ]
  },
  {
   "cell_type": "code",
   "execution_count": 2,
   "id": "64ca2854-4c28-4092-b67a-3763724d1671",
   "metadata": {},
   "outputs": [
    {
     "name": "stdout",
     "output_type": "stream",
     "text": [
      "Swapped tuple: (1, 4, 3, 2, 5)\n"
     ]
    }
   ],
   "source": [
    "# Create a tuple\n",
    "my_tuple = (1, 2, 3, 4, 5)\n",
    "\n",
    "# Convert the tuple to a list\n",
    "my_list = list(my_tuple)\n",
    "\n",
    "# Specify the indices of the elements you want to swap\n",
    "index1, index2 = 1, 3  # Swap the second and fourth elements (0-based index)\n",
    "\n",
    "# Perform the swap\n",
    "my_list[index1], my_list[index2] = my_list[index2], my_list[index1]\n",
    "\n",
    "# Convert the list back to a tuple\n",
    "swapped_tuple = tuple(my_list)\n",
    "\n",
    "# Print the swapped tuple\n",
    "print(\"Swapped tuple:\", swapped_tuple)\n"
   ]
  },
  {
   "cell_type": "code",
   "execution_count": 4,
   "id": "50d9be6c-0f21-4366-9b4c-e0410e96756e",
   "metadata": {},
   "outputs": [
    {
     "name": "stdout",
     "output_type": "stream",
     "text": [
      "Reversed tuple: (5, 4, 3, 2, 1)\n"
     ]
    }
   ],
   "source": [
    "# Create a tuple\n",
    "my_tuple = (1, 2, 3, 4, 5)\n",
    "\n",
    "# Reverse the elements and create a new tuple\n",
    "reversed_tuple = my_tuple[::-1]\n",
    "\n",
    "# Print the reversed tuple\n",
    "print(\"Reversed tuple:\", reversed_tuple)\n"
   ]
  },
  {
   "cell_type": "code",
   "execution_count": 5,
   "id": "ec65d9ff-e2bf-4faf-a4b7-3a4c4e7669d5",
   "metadata": {},
   "outputs": [
    {
     "name": "stdout",
     "output_type": "stream",
     "text": [
      "Tuple of the first 5 powers of 2: (1, 2, 4, 8, 16)\n"
     ]
    }
   ],
   "source": [
    "# Define the value of 'n'\n",
    "n = 5  # You can change 'n' to any positive integer\n",
    "\n",
    "# Create a tuple of the first 'n' powers of 2\n",
    "powers_of_2 = tuple(2 ** i for i in range(n))\n",
    "\n",
    "# Print the tuple\n",
    "print(\"Tuple of the first\", n, \"powers of 2:\", powers_of_2)\n"
   ]
  },
  {
   "cell_type": "code",
   "execution_count": 6,
   "id": "617f69fe-e4f7-47db-b848-58f57c893b62",
   "metadata": {},
   "outputs": [
    {
     "name": "stdout",
     "output_type": "stream",
     "text": [
      "The longest string is: banana\n"
     ]
    }
   ],
   "source": [
    "# Create a tuple of strings\n",
    "string_tuple = (\"apple\", \"banana\", \"cherry\", \"date\", \"fig\")\n",
    "\n",
    "# Initialize a variable to store the longest string\n",
    "longest_string = \"\"\n",
    "\n",
    "# Iterate through the tuple to find the longest string\n",
    "for string in string_tuple:\n",
    "    if len(string) > len(longest_string):\n",
    "        longest_string = string\n",
    "\n",
    "# Print the longest string\n",
    "print(\"The longest string is:\", longest_string)\n"
   ]
  },
  {
   "cell_type": "code",
   "execution_count": 7,
   "id": "effae1cc-dbf8-4b05-ad9f-439286054396",
   "metadata": {},
   "outputs": [
    {
     "name": "stdout",
     "output_type": "stream",
     "text": [
      "The shortest string is: fig\n"
     ]
    }
   ],
   "source": [
    "# Create a tuple of strings\n",
    "string_tuple = (\"apple\", \"banana\", \"cherry\", \"date\", \"fig\")\n",
    "\n",
    "# Initialize a variable to store the shortest string\n",
    "shortest_string = string_tuple[0]  # Initialize it with the first string\n",
    "\n",
    "# Iterate through the tuple to find the shortest string\n",
    "for string in string_tuple:\n",
    "    if len(string) < len(shortest_string):\n",
    "        shortest_string = string\n",
    "\n",
    "# Print the shortest string\n",
    "print(\"The shortest string is:\", shortest_string)\n"
   ]
  },
  {
   "cell_type": "code",
   "execution_count": 8,
   "id": "d3a58855-d65a-4a2d-984e-699ec59ce06e",
   "metadata": {},
   "outputs": [
    {
     "name": "stdout",
     "output_type": "stream",
     "text": [
      "Tuple of the first 5 triangular numbers: (1, 3, 6, 10, 15)\n"
     ]
    }
   ],
   "source": [
    "# Define the value of 'n'\n",
    "n = 5  # You can change 'n' to any positive integer\n",
    "\n",
    "# Initialize an empty list to store the triangular numbers\n",
    "triangular_numbers_list = []\n",
    "\n",
    "# Calculate and append the first 'n' triangular numbers to the list\n",
    "total = 0\n",
    "for i in range(1, n + 1):\n",
    "    total += i\n",
    "    triangular_numbers_list.append(total)\n",
    "\n",
    "# Convert the list to a tuple\n",
    "triangular_numbers_tuple = tuple(triangular_numbers_list)\n",
    "\n",
    "# Print the tuple of the first 'n' triangular numbers\n",
    "print(\"Tuple of the first\", n, \"triangular numbers:\", triangular_numbers_tuple)\n"
   ]
  },
  {
   "cell_type": "code",
   "execution_count": 9,
   "id": "9dc72368-85c4-4ad9-a6fc-9415c82d141f",
   "metadata": {},
   "outputs": [
    {
     "name": "stdout",
     "output_type": "stream",
     "text": [
      "The sub-tuple is a subsequence of the main tuple.\n"
     ]
    }
   ],
   "source": [
    "def is_subsequence(sub, main):\n",
    "    sub_len = len(sub)\n",
    "    main_len = len(main)\n",
    "    \n",
    "    # Initialize indices for sub and main tuples\n",
    "    sub_index = 0\n",
    "    main_index = 0\n",
    "    \n",
    "    while main_index < main_len and sub_index < sub_len:\n",
    "        if sub[sub_index] == main[main_index]:\n",
    "            sub_index += 1\n",
    "        main_index += 1\n",
    "\n",
    "    return sub_index == sub_len\n",
    "\n",
    "# Example usage:\n",
    "main_tuple = (1, 2, 3, 4, 5, 6, 7)\n",
    "sub_tuple = (3, 4, 5)\n",
    "\n",
    "if is_subsequence(sub_tuple, main_tuple):\n",
    "    print(\"The sub-tuple is a subsequence of the main tuple.\")\n",
    "else:\n",
    "    print(\"The sub-tuple is not a subsequence of the main tuple.\")\n"
   ]
  },
  {
   "cell_type": "code",
   "execution_count": 10,
   "id": "10898947-f369-4ce0-b53d-4c26cef1639a",
   "metadata": {},
   "outputs": [
    {
     "name": "stdout",
     "output_type": "stream",
     "text": [
      "Tuple of alternating 1s and 0s: (0, 1, 0, 1, 0, 1, 0, 1, 0, 1)\n"
     ]
    }
   ],
   "source": [
    "# Define the value of 'n'\n",
    "n = 10  # You can change 'n' to any positive integer\n",
    "\n",
    "# Create a tuple of alternating 1s and 0s\n",
    "alternating_tuple = tuple((i % 2) for i in range(n))\n",
    "\n",
    "# Print the tuple\n",
    "print(\"Tuple of alternating 1s and 0s:\", alternating_tuple)\n"
   ]
  },
  {
   "cell_type": "code",
   "execution_count": 11,
   "id": "cd0b377f-4d16-406c-9e05-a2aaa588c739",
   "metadata": {},
   "outputs": [],
   "source": [
    "my_set = {1, 2, 3, 4, 5}\n"
   ]
  },
  {
   "cell_type": "code",
   "execution_count": 12,
   "id": "bc1a58f2-e815-46d7-9702-25eaa2acba75",
   "metadata": {},
   "outputs": [
    {
     "name": "stdout",
     "output_type": "stream",
     "text": [
      "{1, 2, 3, 4, 5}\n"
     ]
    }
   ],
   "source": [
    "print(my_set)\n"
   ]
  },
  {
   "cell_type": "code",
   "execution_count": 13,
   "id": "6c726b76-0586-42b2-bef6-ea61a0b00ecf",
   "metadata": {},
   "outputs": [],
   "source": [
    "my_set = {1, 2, 3, 4, 5}\n",
    "element_to_add = 6\n",
    "my_set.add(element_to_add)\n"
   ]
  },
  {
   "cell_type": "code",
   "execution_count": 14,
   "id": "75dc0ce1-450e-40a5-9713-ab42b434c426",
   "metadata": {},
   "outputs": [
    {
     "name": "stdout",
     "output_type": "stream",
     "text": [
      "{1, 2, 3, 4, 5, 6}\n"
     ]
    }
   ],
   "source": [
    "print(my_set)\n"
   ]
  },
  {
   "cell_type": "code",
   "execution_count": 15,
   "id": "3c743bd9-9742-496f-b980-4a635f1c316e",
   "metadata": {},
   "outputs": [],
   "source": [
    "my_set = {1, 2, 3, 4, 5}\n",
    "element_to_remove = 3\n",
    "\n",
    "# Remove the element using the remove() method\n",
    "my_set.remove(element_to_remove)\n"
   ]
  },
  {
   "cell_type": "code",
   "execution_count": 16,
   "id": "45622738-0f45-406c-8fb2-c20096af41e3",
   "metadata": {},
   "outputs": [
    {
     "name": "stdout",
     "output_type": "stream",
     "text": [
      "{1, 2, 4, 5}\n"
     ]
    }
   ],
   "source": [
    "print(my_set)\n"
   ]
  },
  {
   "cell_type": "code",
   "execution_count": 17,
   "id": "c33c2d7e-a2f2-4e75-9df6-b57b92864bbe",
   "metadata": {},
   "outputs": [
    {
     "name": "stdout",
     "output_type": "stream",
     "text": [
      "3 exists in the set.\n"
     ]
    }
   ],
   "source": [
    "my_set = {1, 2, 3, 4, 5}\n",
    "element_to_check = 3\n",
    "\n",
    "# Check if the element exists in the set using the 'in' keyword\n",
    "if element_to_check in my_set:\n",
    "    print(f\"{element_to_check} exists in the set.\")\n",
    "else:\n",
    "    print(f\"{element_to_check} does not exist in the set.\")\n"
   ]
  },
  {
   "cell_type": "code",
   "execution_count": 18,
   "id": "a97e8a33-3011-4402-be1f-e93d84565530",
   "metadata": {},
   "outputs": [
    {
     "name": "stdout",
     "output_type": "stream",
     "text": [
      "Length of the set: 5\n"
     ]
    }
   ],
   "source": [
    "my_set = {1, 2, 3, 4, 5}\n",
    "count = 0\n",
    "\n",
    "for element in my_set:\n",
    "    count += 1\n",
    "\n",
    "print(\"Length of the set:\", count)\n"
   ]
  },
  {
   "cell_type": "code",
   "execution_count": 19,
   "id": "d6825d61-6d3d-418f-97ed-8b6718f957b1",
   "metadata": {},
   "outputs": [],
   "source": [
    "my_set = {1, 2, 3, 4, 5}\n",
    "my_set.clear()\n"
   ]
  },
  {
   "cell_type": "code",
   "execution_count": 20,
   "id": "86fbbcb6-e057-480b-a0e9-600285685d19",
   "metadata": {},
   "outputs": [],
   "source": [
    "my_set = {1, 2, 3, 4, 5}\n",
    "my_set.clear()\n"
   ]
  },
  {
   "cell_type": "code",
   "execution_count": 21,
   "id": "fc5866cc-56ff-4073-83b6-60a0a5990f64",
   "metadata": {},
   "outputs": [],
   "source": [
    "even_numbers_set = {x for x in range(1, 11) if x % 2 == 0}\n"
   ]
  },
  {
   "cell_type": "code",
   "execution_count": 22,
   "id": "35733ea9-a75a-43ce-8e88-9760e98b0edf",
   "metadata": {},
   "outputs": [],
   "source": [
    "odd_numbers_set = {x for x in range(1, 11) if x % 2 != 0}\n"
   ]
  },
  {
   "cell_type": "code",
   "execution_count": 23,
   "id": "95c72c4a-6d9e-4191-b61c-ffbd0c9f7a90",
   "metadata": {},
   "outputs": [],
   "source": [
    "set1 = {1, 2, 3}\n",
    "set2 = {3, 4, 5}\n",
    "\n",
    "# Using the union() method\n",
    "union_set = set1.union(set2)\n",
    "\n",
    "# Using the | operator\n",
    "union_set = set1 | set2\n"
   ]
  },
  {
   "cell_type": "code",
   "execution_count": 24,
   "id": "33b5aed7-e976-453e-ab78-8a444979f6a2",
   "metadata": {},
   "outputs": [],
   "source": [
    "set1 = {1, 2, 3}\n",
    "set2 = {3, 4, 5}\n",
    "\n",
    "# Using the intersection() method\n",
    "intersection_set = set1.intersection(set2)\n",
    "\n",
    "# Using the & operator\n",
    "intersection_set = set1 & set2\n"
   ]
  },
  {
   "cell_type": "code",
   "execution_count": 25,
   "id": "5bbf1d9c-55a3-4db9-941f-5fb8a2a94e63",
   "metadata": {},
   "outputs": [],
   "source": [
    "set1 = {1, 2, 3}\n",
    "set2 = {3, 4, 5}\n",
    "\n",
    "# Using the difference() method\n",
    "difference_set = set1.difference(set2)\n",
    "\n",
    "# Using the - operator\n",
    "difference_set = set1 - set2\n"
   ]
  },
  {
   "cell_type": "code",
   "execution_count": 26,
   "id": "db7c8c8c-611f-4e70-9d22-7d110e5655ea",
   "metadata": {},
   "outputs": [],
   "source": [
    "set1 = {1, 2, 3}\n",
    "set2 = {1, 2, 3, 4, 5}\n",
    "\n",
    "# Using the issubset() method\n",
    "is_subset = set1.issubset(set2)\n",
    "\n",
    "# Using the <= operator\n",
    "is_subset = set1 <= set2\n"
   ]
  },
  {
   "cell_type": "code",
   "execution_count": 27,
   "id": "a44bc9ed-e666-41c9-9bdd-609d3c1c6cac",
   "metadata": {},
   "outputs": [],
   "source": [
    "set1 = {1, 2, 3, 4, 5}\n",
    "set2 = {1, 2, 3}\n",
    "\n",
    "# Using the issuperset() method\n",
    "is_superset = set1.issuperset(set2)\n",
    "\n",
    "# Using the >= operator\n",
    "is_superset = set1 >= set2\n"
   ]
  },
  {
   "cell_type": "code",
   "execution_count": 28,
   "id": "d4f7c847-8eaa-4db3-9fc9-27f29bacfe21",
   "metadata": {},
   "outputs": [],
   "source": [
    "my_list = [1, 2, 3, 4, 5]\n",
    "my_set = set(my_list)\n"
   ]
  },
  {
   "cell_type": "code",
   "execution_count": 29,
   "id": "47c83dca-9156-490b-8ea1-3bbcf90f4eb6",
   "metadata": {},
   "outputs": [],
   "source": [
    "my_set = {1, 2, 3, 4, 5}\n",
    "removed_element = my_set.pop()\n"
   ]
  },
  {
   "cell_type": "code",
   "execution_count": 30,
   "id": "0c827d0a-206e-4fd0-9d2e-c3d90806d894",
   "metadata": {},
   "outputs": [
    {
     "name": "stdout",
     "output_type": "stream",
     "text": [
      "The sets have no elements in common.\n"
     ]
    }
   ],
   "source": [
    "set1 = {1, 2, 3}\n",
    "set2 = {4, 5, 6}\n",
    "\n",
    "if set1.isdisjoint(set2):\n",
    "    print(\"The sets have no elements in common.\")\n",
    "else:\n",
    "    print(\"The sets have elements in common.\")\n"
   ]
  },
  {
   "cell_type": "code",
   "execution_count": 31,
   "id": "628615d7-5335-4025-ac3e-926a1613d94e",
   "metadata": {},
   "outputs": [],
   "source": [
    "set1 = {1, 2, 3, 4, 5}\n",
    "set2 = {3, 4, 5, 6, 7}\n",
    "\n",
    "symmetric_diff = set1.symmetric_difference(set2)\n"
   ]
  },
  {
   "cell_type": "code",
   "execution_count": 32,
   "id": "051549f2-3c7d-4dad-ae52-13e8cd04655e",
   "metadata": {},
   "outputs": [],
   "source": [
    "set1 = {1, 2, 3}\n",
    "set2 = {3, 4, 5}\n",
    "\n",
    "set1.update(set2)\n"
   ]
  },
  {
   "cell_type": "code",
   "execution_count": 33,
   "id": "a70438f6-9a1d-4c1a-be39-6c407c669119",
   "metadata": {},
   "outputs": [],
   "source": [
    "prime_numbers = {2, 3, 5, 7, 11}\n"
   ]
  },
  {
   "cell_type": "code",
   "execution_count": 34,
   "id": "29144930-c534-4e97-9371-389bc9871bb0",
   "metadata": {},
   "outputs": [],
   "source": [
    "my_frozen_set = frozenset([1, 2, 3, 4, 5])\n"
   ]
  },
  {
   "cell_type": "code",
   "execution_count": 35,
   "id": "1a484786-2fcb-41e6-b9fd-8c073971079c",
   "metadata": {},
   "outputs": [],
   "source": [
    "squares = {x ** 2 for x in range(1, 6)}\n"
   ]
  },
  {
   "cell_type": "code",
   "execution_count": 36,
   "id": "cefb3ecd-05a0-4eb1-a22c-98606daae189",
   "metadata": {},
   "outputs": [],
   "source": [
    "my_set = {1, 2, 3, 4, 5}\n",
    "odd_set = {x for x in my_set if x % 2 != 0}\n"
   ]
  },
  {
   "cell_type": "code",
   "execution_count": 37,
   "id": "57554fbb-0712-4a57-8e5f-4f43cae64cb0",
   "metadata": {},
   "outputs": [],
   "source": [
    "my_set = {1, 2, 3, 4, 5}\n",
    "result_set = {x * 2 for x in my_set}\n"
   ]
  },
  {
   "cell_type": "code",
   "execution_count": 38,
   "id": "ae857a66-3daf-497a-837c-4359b88d4b91",
   "metadata": {},
   "outputs": [],
   "source": [
    "import random\n",
    "\n",
    "random_set = set(random.sample(range(1, 100), 10))\n"
   ]
  },
  {
   "cell_type": "code",
   "execution_count": 39,
   "id": "90d5d400-860b-4e7f-b63f-0228ca8f2819",
   "metadata": {},
   "outputs": [
    {
     "name": "stdout",
     "output_type": "stream",
     "text": [
      "The set is empty.\n"
     ]
    }
   ],
   "source": [
    "my_set = set()\n",
    "if not my_set:\n",
    "    print(\"The set is empty.\")\n"
   ]
  },
  {
   "cell_type": "code",
   "execution_count": 40,
   "id": "1e904c02-1ef8-416f-a460-db44234d871e",
   "metadata": {},
   "outputs": [],
   "source": [
    "nested_set = {frozenset({1, 2}), frozenset({3, 4})}\n"
   ]
  },
  {
   "cell_type": "code",
   "execution_count": 41,
   "id": "bc2ec0fb-908e-4b21-8a82-b814f09ed9d4",
   "metadata": {},
   "outputs": [],
   "source": [
    "my_set = {1, 2, 3, 4, 5}\n",
    "element_to_remove = 3\n",
    "\n",
    "my_set.discard(element_to_remove)\n"
   ]
  },
  {
   "cell_type": "code",
   "execution_count": 42,
   "id": "a275a3d0-df2f-4717-ae14-74d053f03f4c",
   "metadata": {},
   "outputs": [
    {
     "name": "stdout",
     "output_type": "stream",
     "text": [
      "The sets are equal.\n"
     ]
    }
   ],
   "source": [
    "set1 = {1, 2, 3}\n",
    "set2 = {2, 3, 1}\n",
    "\n",
    "if set1 == set2:\n",
    "    print(\"The sets are equal.\")\n"
   ]
  },
  {
   "cell_type": "code",
   "execution_count": 43,
   "id": "1f037ebf-8893-40a8-a6fc-b197a1ae23e5",
   "metadata": {},
   "outputs": [],
   "source": [
    "my_string = \"hello\"\n",
    "char_set = set(my_string)\n"
   ]
  },
  {
   "cell_type": "code",
   "execution_count": 44,
   "id": "5ad071d8-4618-49ea-90f6-142f01a8f09e",
   "metadata": {},
   "outputs": [],
   "source": [
    "string_set = {\"1\", \"2\", \"3\", \"4\", \"5\"}\n",
    "int_set = {int(x) for x in string_set}\n"
   ]
  },
  {
   "cell_type": "code",
   "execution_count": 45,
   "id": "a70f61e6-a1fb-46d0-99f9-10b7cd0b6fc3",
   "metadata": {},
   "outputs": [],
   "source": [
    "int_set = {1, 2, 3, 4, 5}\n",
    "string_set = {str(x) for x in int_set}\n"
   ]
  },
  {
   "cell_type": "code",
   "execution_count": 46,
   "id": "2cd22e12-fd1d-4161-b570-ef3f159781a2",
   "metadata": {},
   "outputs": [],
   "source": [
    "my_tuple = (1, 2, 3, 4, 5)\n",
    "my_set = set(my_tuple)\n"
   ]
  },
  {
   "cell_type": "code",
   "execution_count": 47,
   "id": "2df35e52-5f54-4ae0-b709-720aeded6403",
   "metadata": {},
   "outputs": [],
   "source": [
    "my_set = {1, 2, 3, 4, 5}\n",
    "my_tuple = tuple(my_set)\n"
   ]
  },
  {
   "cell_type": "code",
   "execution_count": 48,
   "id": "cad55286-dd76-4ff9-b692-f0e11b9fc2b3",
   "metadata": {},
   "outputs": [],
   "source": [
    "my_set = {1, 3, 5, 7, 9}\n",
    "max_value = max(my_set)\n"
   ]
  },
  {
   "cell_type": "code",
   "execution_count": 49,
   "id": "2ba3ac5f-b8c5-460e-8821-408f68e34f67",
   "metadata": {},
   "outputs": [],
   "source": [
    "my_set = {1, 3, 5, 7, 9}\n",
    "min_value = min(my_set)\n"
   ]
  },
  {
   "cell_type": "code",
   "execution_count": 50,
   "id": "c410f996-3114-492e-8592-36ebaf2742bc",
   "metadata": {},
   "outputs": [
    {
     "name": "stdin",
     "output_type": "stream",
     "text": [
      "Enter elements separated by spaces:  252636533\n"
     ]
    }
   ],
   "source": [
    "input_str = input(\"Enter elements separated by spaces: \")\n",
    "elements = input_str.split()\n",
    "user_set = set(elements)\n"
   ]
  },
  {
   "cell_type": "code",
   "execution_count": 51,
   "id": "16b85247-af01-4939-9dce-b1d424231ae8",
   "metadata": {},
   "outputs": [
    {
     "name": "stdout",
     "output_type": "stream",
     "text": [
      "The sets have no common elements.\n"
     ]
    }
   ],
   "source": [
    "set1 = {1, 2, 3}\n",
    "set2 = {4, 5, 6}\n",
    "\n",
    "if set1.isdisjoint(set2):\n",
    "    print(\"The sets have no common elements.\")\n"
   ]
  },
  {
   "cell_type": "code",
   "execution_count": 52,
   "id": "88db869d-871a-42b0-9e28-3f9eca4c9deb",
   "metadata": {},
   "outputs": [],
   "source": [
    "fibonacci_set = {0, 1, 1, 2, 3}\n"
   ]
  },
  {
   "cell_type": "code",
   "execution_count": 53,
   "id": "125ba148-b204-4ec2-8665-ee84dabe25b7",
   "metadata": {},
   "outputs": [],
   "source": [
    "my_list = [1, 2, 2, 3, 4, 4, 5]\n",
    "unique_list = list(set(my_list))\n"
   ]
  },
  {
   "cell_type": "code",
   "execution_count": 54,
   "id": "e9f72f0e-8844-464f-ab1f-f0f11c87e477",
   "metadata": {},
   "outputs": [
    {
     "name": "stdout",
     "output_type": "stream",
     "text": [
      "The sets have the same elements.\n"
     ]
    }
   ],
   "source": [
    "set1 = {1, 2, 3}\n",
    "set2 = {1, 2, 2, 3, 3, 3}\n",
    "if set1 == set2:\n",
    "    print(\"The sets have the same elements.\")\n"
   ]
  },
  {
   "cell_type": "code",
   "execution_count": 55,
   "id": "7c053bc9-7a90-4998-94ab-79dc0d8744f3",
   "metadata": {},
   "outputs": [],
   "source": [
    "n = 5\n",
    "powers_of_2_set = {2 ** i for i in range(n)}\n"
   ]
  },
  {
   "cell_type": "code",
   "execution_count": 56,
   "id": "799a8cda-a3e8-49d1-aec3-68b93c66a651",
   "metadata": {},
   "outputs": [],
   "source": [
    "my_set = {1, 2, 3, 4, 5}\n",
    "my_list = [3, 4, 5, 6, 7]\n",
    "common_elements = my_set.intersection(my_list)\n"
   ]
  },
  {
   "cell_type": "code",
   "execution_count": null,
   "id": "bce6d0eb-5ec0-4341-b1c1-c65173a220f0",
   "metadata": {},
   "outputs": [],
   "source": []
  }
 ],
 "metadata": {
  "kernelspec": {
   "display_name": "Python 3 (ipykernel)",
   "language": "python",
   "name": "python3"
  },
  "language_info": {
   "codemirror_mode": {
    "name": "ipython",
    "version": 3
   },
   "file_extension": ".py",
   "mimetype": "text/x-python",
   "name": "python",
   "nbconvert_exporter": "python",
   "pygments_lexer": "ipython3",
   "version": "3.10.8"
  }
 },
 "nbformat": 4,
 "nbformat_minor": 5
}
